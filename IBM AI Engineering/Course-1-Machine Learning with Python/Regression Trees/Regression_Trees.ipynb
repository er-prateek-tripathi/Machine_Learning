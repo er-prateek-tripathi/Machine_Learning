{
 "cells": [
  {
   "cell_type": "markdown",
   "id": "442ceeff-f9dc-4335-b2ee-bc8faeb713bf",
   "metadata": {},
   "outputs": [],
   "source": [
    "<p style=\"text-align:center\">\n",
    "    <a href=\"https://skills.network\" target=\"_blank\">\n",
    "    <img src=\"https://cf-courses-data.s3.us.cloud-object-storage.appdomain.cloud/assets/logos/SN_web_lightmode.png\" width=\"200\" alt=\"Skills Network Logo\">\n",
    "    </a>\n",
    "</p>\n"
   ]
  },
  {
   "cell_type": "markdown",
   "id": "f0ba9bf6-8c65-42a4-b31f-53c127b767ee",
   "metadata": {},
   "outputs": [],
   "source": [
    "# **Regression Trees**\n"
   ]
  },
  {
   "cell_type": "markdown",
   "id": "13eebf5e-4628-4017-9fd4-89c2bb49b26c",
   "metadata": {},
   "outputs": [],
   "source": [
    "## Setup\n"
   ]
  },
  {
   "cell_type": "markdown",
   "id": "c6667111-8f71-4ff8-9a2b-d06027e031a4",
   "metadata": {},
   "outputs": [],
   "source": [
    "For this lab, we are going to be using Python and several Python libraries. Some of these libraries might be installed in your lab environment or in SN Labs. Others may need to be installed by you. The cells below will install these libraries when executed.\n"
   ]
  },
  {
   "cell_type": "code",
   "id": "40daa0c2-df36-409d-80ff-9d65685b99f7",
   "metadata": {
    "ExecuteTime": {
     "end_time": "2023-12-07T11:31:54.865438600Z",
     "start_time": "2023-12-07T11:31:34.424726100Z"
    }
   },
   "outputs": [
    {
     "name": "stdout",
     "output_type": "stream",
     "text": [
      "Collecting pandas==1.3.4\n",
      "  Downloading pandas-1.3.4-cp310-cp310-win_amd64.whl (10.2 MB)\n",
      "     ---------------------------------------- 0.0/10.2 MB ? eta -:--:--\n",
      "      --------------------------------------- 0.2/10.2 MB 6.3 MB/s eta 0:00:02\n",
      "     -- ------------------------------------- 0.5/10.2 MB 6.7 MB/s eta 0:00:02\n",
      "     --- ------------------------------------ 0.9/10.2 MB 7.0 MB/s eta 0:00:02\n",
      "     ----- ---------------------------------- 1.5/10.2 MB 8.7 MB/s eta 0:00:01\n",
      "     ------ --------------------------------- 1.8/10.2 MB 8.0 MB/s eta 0:00:02\n",
      "     -------- ------------------------------- 2.0/10.2 MB 7.6 MB/s eta 0:00:02\n",
      "     --------- ------------------------------ 2.3/10.2 MB 7.3 MB/s eta 0:00:02\n",
      "     ---------- ----------------------------- 2.5/10.2 MB 7.1 MB/s eta 0:00:02\n",
      "     ----------- ---------------------------- 2.8/10.2 MB 6.9 MB/s eta 0:00:02\n",
      "     ------------ --------------------------- 3.1/10.2 MB 6.7 MB/s eta 0:00:02\n",
      "     ------------ --------------------------- 3.3/10.2 MB 6.5 MB/s eta 0:00:02\n",
      "     -------------- ------------------------- 3.6/10.2 MB 6.5 MB/s eta 0:00:02\n",
      "     --------------- ------------------------ 3.8/10.2 MB 6.4 MB/s eta 0:00:01\n",
      "     --------------- ------------------------ 4.1/10.2 MB 6.3 MB/s eta 0:00:01\n",
      "     ---------------- ----------------------- 4.3/10.2 MB 6.3 MB/s eta 0:00:01\n",
      "     ----------------- ---------------------- 4.5/10.2 MB 6.3 MB/s eta 0:00:01\n",
      "     ------------------ --------------------- 4.8/10.2 MB 6.2 MB/s eta 0:00:01\n",
      "     ------------------- -------------------- 5.0/10.2 MB 6.1 MB/s eta 0:00:01\n",
      "     -------------------- ------------------- 5.2/10.2 MB 6.1 MB/s eta 0:00:01\n",
      "     --------------------- ------------------ 5.5/10.2 MB 6.0 MB/s eta 0:00:01\n",
      "     --------------------- ------------------ 5.6/10.2 MB 5.9 MB/s eta 0:00:01\n",
      "     ---------------------- ----------------- 5.7/10.2 MB 5.7 MB/s eta 0:00:01\n",
      "     ---------------------- ----------------- 5.8/10.2 MB 5.5 MB/s eta 0:00:01\n",
      "     ----------------------- ---------------- 5.9/10.2 MB 5.4 MB/s eta 0:00:01\n",
      "     ----------------------- ---------------- 6.0/10.2 MB 5.3 MB/s eta 0:00:01\n",
      "     ------------------------ --------------- 6.2/10.2 MB 5.2 MB/s eta 0:00:01\n",
      "     ------------------------- -------------- 6.5/10.2 MB 5.2 MB/s eta 0:00:01\n",
      "     -------------------------- ------------- 6.7/10.2 MB 5.2 MB/s eta 0:00:01\n",
      "     --------------------------- ------------ 6.9/10.2 MB 5.2 MB/s eta 0:00:01\n",
      "     ---------------------------- ----------- 7.1/10.2 MB 5.2 MB/s eta 0:00:01\n",
      "     ---------------------------- ----------- 7.4/10.2 MB 5.2 MB/s eta 0:00:01\n",
      "     ----------------------------- ---------- 7.6/10.2 MB 5.2 MB/s eta 0:00:01\n",
      "     ------------------------------ --------- 7.8/10.2 MB 5.2 MB/s eta 0:00:01\n",
      "     ------------------------------- -------- 8.1/10.2 MB 5.2 MB/s eta 0:00:01\n",
      "     -------------------------------- ------- 8.3/10.2 MB 5.2 MB/s eta 0:00:01\n",
      "     --------------------------------- ------ 8.5/10.2 MB 5.1 MB/s eta 0:00:01\n",
      "     ---------------------------------- ----- 8.7/10.2 MB 5.1 MB/s eta 0:00:01\n",
      "     ----------------------------------- ---- 9.0/10.2 MB 5.2 MB/s eta 0:00:01\n",
      "     ------------------------------------ --- 9.2/10.2 MB 5.2 MB/s eta 0:00:01\n",
      "     ------------------------------------- -- 9.4/10.2 MB 5.2 MB/s eta 0:00:01\n",
      "     ------------------------------------- -- 9.6/10.2 MB 5.1 MB/s eta 0:00:01\n",
      "     -------------------------------------- - 9.9/10.2 MB 5.1 MB/s eta 0:00:01\n",
      "     ---------------------------------------  10.1/10.2 MB 5.1 MB/s eta 0:00:01\n",
      "     ---------------------------------------  10.2/10.2 MB 5.1 MB/s eta 0:00:01\n",
      "     ---------------------------------------  10.2/10.2 MB 5.1 MB/s eta 0:00:01\n",
      "     ---------------------------------------  10.2/10.2 MB 5.1 MB/s eta 0:00:01\n",
      "     ---------------------------------------- 10.2/10.2 MB 4.7 MB/s eta 0:00:00\n",
      "Requirement already satisfied: python-dateutil>=2.7.3 in c:\\users\\prate\\appdata\\local\\programs\\python\\python310\\lib\\site-packages (from pandas==1.3.4) (2.8.2)\n",
      "Requirement already satisfied: pytz>=2017.3 in c:\\users\\prate\\appdata\\local\\programs\\python\\python310\\lib\\site-packages (from pandas==1.3.4) (2023.3.post1)\n",
      "Requirement already satisfied: numpy>=1.21.0 in c:\\users\\prate\\appdata\\local\\programs\\python\\python310\\lib\\site-packages (from pandas==1.3.4) (1.26.2)\n",
      "Requirement already satisfied: six>=1.5 in c:\\users\\prate\\appdata\\local\\programs\\python\\python310\\lib\\site-packages (from python-dateutil>=2.7.3->pandas==1.3.4) (1.16.0)\n",
      "Installing collected packages: pandas\n",
      "  Attempting uninstall: pandas\n",
      "    Found existing installation: pandas 2.1.3\n",
      "    Uninstalling pandas-2.1.3:\n",
      "      Successfully uninstalled pandas-2.1.3\n",
      "Successfully installed pandas-1.3.4\n"
     ]
    },
    {
     "name": "stderr",
     "output_type": "stream",
     "text": [
      "ERROR: Ignored the following yanked versions: 0.0.post2\n",
      "ERROR: Could not find a version that satisfies the requirement sklearn==0.20.1 (from versions: 0.0, 0.0.post1, 0.0.post4, 0.0.post5, 0.0.post7, 0.0.post9, 0.0.post10, 0.0.post11, 0.0.post12)\n",
      "ERROR: No matching distribution found for sklearn==0.20.1\n"
     ]
    }
   ],
   "source": [
    "# Install libraries not already in the environment using pip\n",
    "!pip install pandas==1.3.4\n",
    "!pip install sklearn==0.20.1"
   ],
   "execution_count": 1
  },
  {
   "cell_type": "code",
   "id": "a7a7afc3-2bff-4600-9929-003f3e05a754",
   "metadata": {
    "ExecuteTime": {
     "end_time": "2023-12-07T11:33:07.598955300Z",
     "start_time": "2023-12-07T11:33:02.927388500Z"
    }
   },
   "outputs": [],
   "source": [
    "# Pandas will allow us to create a dataframe of the data so it can be used and manipulated\n",
    "import pandas as pd\n",
    "# Regression Tree Algorithm\n",
    "from sklearn.tree import DecisionTreeRegressor\n",
    "# Split our data into a training and testing data\n",
    "from sklearn.model_selection import train_test_split"
   ],
   "execution_count": 2
  },
  {
   "cell_type": "markdown",
   "id": "46b3f739-f672-4196-b740-3f4049ba6cf5",
   "metadata": {},
   "outputs": [],
   "source": [
    "## About the Dataset\n"
   ]
  },
  {
   "cell_type": "markdown",
   "id": "702c8dd2-3c4a-4d89-9cbc-ab79566f0c1f",
   "metadata": {},
   "outputs": [],
   "source": [
    "Imagine you are a data scientist working for a real estate company that is planning to invest in Boston real estate. You have collected information about various areas of Boston and are tasked with created a model that can predict the median price of houses for that area so it can be used to make offers.\n",
    "\n",
    "The dataset had information on areas/towns not individual houses, the features are\n",
    "\n",
    "CRIM: Crime per capita\n",
    "\n",
    "ZN: Proportion of residential land zoned for lots over 25,000 sq.ft.\n",
    "\n",
    "INDUS: Proportion of non-retail business acres per town\n",
    "\n",
    "CHAS: Charles River dummy variable (= 1 if tract bounds river; 0 otherwise)\n",
    "\n",
    "NOX: Nitric oxides concentration (parts per 10 million)\n",
    "\n",
    "RM: Average number of rooms per dwelling\n",
    "\n",
    "AGE: Proportion of owner-occupied units built prior to 1940\n",
    "\n",
    "DIS: Weighted distances to ﬁve Boston employment centers\n",
    "\n",
    "RAD: Index of accessibility to radial highways\n",
    "\n",
    "TAX: Full-value property-tax rate per $10,000\n",
    "\n",
    "PTRAIO: Pupil-teacher ratio by town\n",
    "\n",
    "LSTAT: Percent lower status of the population\n",
    "\n",
    "MEDV: Median value of owner-occupied homes in $1000s\n"
   ]
  },
  {
   "cell_type": "markdown",
   "id": "adb88135-eb3f-428b-b92a-3bd14d5d1094",
   "metadata": {},
   "outputs": [],
   "source": [
    "## Read the Data\n"
   ]
  },
  {
   "cell_type": "markdown",
   "id": "30183e95-5f96-4e0f-a892-a8041b94931b",
   "metadata": {},
   "outputs": [],
   "source": [
    "Lets read in the data we have downloaded\n"
   ]
  },
  {
   "cell_type": "code",
   "id": "22dba517-b51c-44ed-923c-071a6d14a116",
   "metadata": {
    "ExecuteTime": {
     "end_time": "2023-12-07T11:33:18.558253900Z",
     "start_time": "2023-12-07T11:33:16.342577500Z"
    }
   },
   "outputs": [],
   "source": [
    "data = pd.read_csv(\"https://cf-courses-data.s3.us.cloud-object-storage.appdomain.cloud/IBMDeveloperSkillsNetwork-ML0101EN-SkillsNetwork/labs/Module%203/data/real_estate_data.csv\")"
   ],
   "execution_count": 3
  },
  {
   "cell_type": "code",
   "execution_count": 7,
   "outputs": [
    {
     "name": "stderr",
     "output_type": "stream",
     "text": [
      "'wget' is not recognized as an internal or external command,\n",
      "operable program or batch file.\n"
     ]
    }
   ],
   "source": [
    "!wget path = !curl https://cf-courses-data.s3.us.cloud-object-storage.appdomain.cloud/IBMDeveloperSkillsNetwork-ML0101EN-SkillsNetwork/labs/Module%202/data/real_estate_data.csv -o real_estate_data.csv"
   ],
   "metadata": {
    "collapsed": false,
    "ExecuteTime": {
     "end_time": "2023-12-07T11:35:42.594182200Z",
     "start_time": "2023-12-07T11:35:42.543990100Z"
    }
   }
  },
  {
   "cell_type": "code",
   "execution_count": 4,
   "outputs": [
    {
     "name": "stderr",
     "output_type": "stream",
     "text": [
      "  % Total    % Received % Xferd  Average Speed   Time    Time     Time  Current\n",
      "                                 Dload  Upload   Total   Spent    Left  Speed\n",
      "\n",
      "  0     0    0     0    0     0      0      0 --:--:-- --:--:-- --:--:--     0\n",
      "  0     0    0     0    0     0      0      0 --:--:-- --:--:-- --:--:--     0\n",
      "  0     0    0     0    0     0      0      0 --:--:--  0:00:01 --:--:--     0\n",
      "100   365  100   365    0     0    187      0  0:00:01  0:00:01 --:--:--   188\n"
     ]
    }
   ],
   "source": [
    "!curl https://cf-courses-data.s3.us.cloud-object-storage.appdomain.cloud/IBMDeveloperSkillsNetwork-ML0101EN-SkillsNetwork/labs/Module%202/data/real_estate_data.csv -o real_estate_data.csv"
   ],
   "metadata": {
    "collapsed": false,
    "ExecuteTime": {
     "end_time": "2023-12-07T11:34:21.103317500Z",
     "start_time": "2023-12-07T11:34:19.057225200Z"
    }
   }
  },
  {
   "cell_type": "code",
   "id": "9199b9d2-10fc-4a50-b934-d491c9a229f5",
   "metadata": {
    "ExecuteTime": {
     "end_time": "2023-12-07T11:34:31.831505700Z",
     "start_time": "2023-12-07T11:34:31.768989400Z"
    }
   },
   "outputs": [
    {
     "data": {
      "text/plain": "      CRIM    ZN  INDUS  CHAS    NOX     RM   AGE     DIS  RAD  TAX  PTRATIO  \\\n0  0.00632  18.0   2.31   0.0  0.538  6.575  65.2  4.0900    1  296     15.3   \n1  0.02731   0.0   7.07   0.0  0.469  6.421  78.9  4.9671    2  242     17.8   \n2  0.02729   0.0   7.07   0.0  0.469  7.185  61.1  4.9671    2  242     17.8   \n3  0.03237   0.0   2.18   0.0  0.458  6.998  45.8  6.0622    3  222     18.7   \n4  0.06905   0.0   2.18   0.0  0.458  7.147  54.2  6.0622    3  222     18.7   \n\n   LSTAT  MEDV  \n0   4.98  24.0  \n1   9.14  21.6  \n2   4.03  34.7  \n3   2.94  33.4  \n4    NaN  36.2  ",
      "text/html": "<div>\n<style scoped>\n    .dataframe tbody tr th:only-of-type {\n        vertical-align: middle;\n    }\n\n    .dataframe tbody tr th {\n        vertical-align: top;\n    }\n\n    .dataframe thead th {\n        text-align: right;\n    }\n</style>\n<table border=\"1\" class=\"dataframe\">\n  <thead>\n    <tr style=\"text-align: right;\">\n      <th></th>\n      <th>CRIM</th>\n      <th>ZN</th>\n      <th>INDUS</th>\n      <th>CHAS</th>\n      <th>NOX</th>\n      <th>RM</th>\n      <th>AGE</th>\n      <th>DIS</th>\n      <th>RAD</th>\n      <th>TAX</th>\n      <th>PTRATIO</th>\n      <th>LSTAT</th>\n      <th>MEDV</th>\n    </tr>\n  </thead>\n  <tbody>\n    <tr>\n      <th>0</th>\n      <td>0.00632</td>\n      <td>18.0</td>\n      <td>2.31</td>\n      <td>0.0</td>\n      <td>0.538</td>\n      <td>6.575</td>\n      <td>65.2</td>\n      <td>4.0900</td>\n      <td>1</td>\n      <td>296</td>\n      <td>15.3</td>\n      <td>4.98</td>\n      <td>24.0</td>\n    </tr>\n    <tr>\n      <th>1</th>\n      <td>0.02731</td>\n      <td>0.0</td>\n      <td>7.07</td>\n      <td>0.0</td>\n      <td>0.469</td>\n      <td>6.421</td>\n      <td>78.9</td>\n      <td>4.9671</td>\n      <td>2</td>\n      <td>242</td>\n      <td>17.8</td>\n      <td>9.14</td>\n      <td>21.6</td>\n    </tr>\n    <tr>\n      <th>2</th>\n      <td>0.02729</td>\n      <td>0.0</td>\n      <td>7.07</td>\n      <td>0.0</td>\n      <td>0.469</td>\n      <td>7.185</td>\n      <td>61.1</td>\n      <td>4.9671</td>\n      <td>2</td>\n      <td>242</td>\n      <td>17.8</td>\n      <td>4.03</td>\n      <td>34.7</td>\n    </tr>\n    <tr>\n      <th>3</th>\n      <td>0.03237</td>\n      <td>0.0</td>\n      <td>2.18</td>\n      <td>0.0</td>\n      <td>0.458</td>\n      <td>6.998</td>\n      <td>45.8</td>\n      <td>6.0622</td>\n      <td>3</td>\n      <td>222</td>\n      <td>18.7</td>\n      <td>2.94</td>\n      <td>33.4</td>\n    </tr>\n    <tr>\n      <th>4</th>\n      <td>0.06905</td>\n      <td>0.0</td>\n      <td>2.18</td>\n      <td>0.0</td>\n      <td>0.458</td>\n      <td>7.147</td>\n      <td>54.2</td>\n      <td>6.0622</td>\n      <td>3</td>\n      <td>222</td>\n      <td>18.7</td>\n      <td>NaN</td>\n      <td>36.2</td>\n    </tr>\n  </tbody>\n</table>\n</div>"
     },
     "execution_count": 5,
     "metadata": {},
     "output_type": "execute_result"
    }
   ],
   "source": [
    "data.head()"
   ],
   "execution_count": 5
  },
  {
   "cell_type": "markdown",
   "id": "24905599-8c2b-4ff8-b7df-ac3ce7c8ff67",
   "metadata": {},
   "outputs": [],
   "source": [
    "Now lets learn about the size of our data, there are 506 rows and 13 columns\n"
   ]
  },
  {
   "cell_type": "code",
   "id": "45e9bca0-9ae7-4071-90c4-36ee4d9a41f7",
   "metadata": {
    "ExecuteTime": {
     "end_time": "2023-12-07T11:36:00.479819600Z",
     "start_time": "2023-12-07T11:36:00.464197800Z"
    }
   },
   "outputs": [
    {
     "data": {
      "text/plain": "(506, 13)"
     },
     "execution_count": 8,
     "metadata": {},
     "output_type": "execute_result"
    }
   ],
   "source": [
    "data.shape"
   ],
   "execution_count": 8
  },
  {
   "cell_type": "markdown",
   "id": "03a3791e-5afe-4cce-b7fd-a63e857ed38b",
   "metadata": {},
   "outputs": [],
   "source": [
    "Most of the data is valid, there are rows with missing values which we will deal with in pre-processing\n"
   ]
  },
  {
   "cell_type": "code",
   "id": "a9a539e9-d42b-4bd5-a3c1-f1d39d80abe9",
   "metadata": {
    "ExecuteTime": {
     "end_time": "2023-12-07T11:36:04.549903100Z",
     "start_time": "2023-12-07T11:36:04.460190500Z"
    }
   },
   "outputs": [
    {
     "data": {
      "text/plain": "CRIM       20\nZN         20\nINDUS      20\nCHAS       20\nNOX         0\nRM          0\nAGE        20\nDIS         0\nRAD         0\nTAX         0\nPTRATIO     0\nLSTAT      20\nMEDV        0\ndtype: int64"
     },
     "execution_count": 9,
     "metadata": {},
     "output_type": "execute_result"
    }
   ],
   "source": [
    "data.isna().sum()"
   ],
   "execution_count": 9
  },
  {
   "cell_type": "markdown",
   "id": "55214bf7-49af-45ae-8227-837844ae3d22",
   "metadata": {},
   "outputs": [],
   "source": [
    "## Data Pre-Processing\n"
   ]
  },
  {
   "cell_type": "markdown",
   "id": "481169c6-161b-4c74-a58b-82a8bcdfb590",
   "metadata": {},
   "outputs": [],
   "source": [
    "First lets drop the rows with missing values because we have enough data in our dataset\n"
   ]
  },
  {
   "cell_type": "code",
   "id": "d98ef9db-2d5c-4193-ab73-ba676b7c90c0",
   "metadata": {
    "ExecuteTime": {
     "end_time": "2023-12-07T11:36:13.469000100Z",
     "start_time": "2023-12-07T11:36:13.452006600Z"
    }
   },
   "outputs": [],
   "source": [
    "data.dropna(inplace=True)"
   ],
   "execution_count": 10
  },
  {
   "cell_type": "markdown",
   "id": "4fab5937-b2aa-48ee-bcbf-667cb63ba70f",
   "metadata": {},
   "outputs": [],
   "source": [
    "Now we can see our dataset has no missing values\n"
   ]
  },
  {
   "cell_type": "code",
   "id": "bc377037-897b-4db0-8799-59fe9dc9c3ed",
   "metadata": {
    "ExecuteTime": {
     "end_time": "2023-12-07T11:36:16.083835200Z",
     "start_time": "2023-12-07T11:36:16.068213300Z"
    }
   },
   "outputs": [
    {
     "data": {
      "text/plain": "CRIM       0\nZN         0\nINDUS      0\nCHAS       0\nNOX        0\nRM         0\nAGE        0\nDIS        0\nRAD        0\nTAX        0\nPTRATIO    0\nLSTAT      0\nMEDV       0\ndtype: int64"
     },
     "execution_count": 11,
     "metadata": {},
     "output_type": "execute_result"
    }
   ],
   "source": [
    "data.isna().sum()"
   ],
   "execution_count": 11
  },
  {
   "cell_type": "markdown",
   "id": "e40b157d-5add-49e2-acc6-59176e5b51c9",
   "metadata": {},
   "outputs": [],
   "source": [
    "Lets split the dataset into our features and what we are predicting (target)\n"
   ]
  },
  {
   "cell_type": "code",
   "id": "16a031d8-b28f-42ac-ac21-300921a2bbe5",
   "metadata": {
    "ExecuteTime": {
     "end_time": "2023-12-07T11:36:19.446727500Z",
     "start_time": "2023-12-07T11:36:19.431266600Z"
    }
   },
   "outputs": [],
   "source": [
    "X = data.drop(columns=[\"MEDV\"])\n",
    "Y = data[\"MEDV\"]"
   ],
   "execution_count": 12
  },
  {
   "cell_type": "code",
   "id": "9e2cd953-17ff-450b-81bd-0451ab232db2",
   "metadata": {
    "ExecuteTime": {
     "end_time": "2023-12-07T11:36:19.958039900Z",
     "start_time": "2023-12-07T11:36:19.926765Z"
    }
   },
   "outputs": [
    {
     "data": {
      "text/plain": "      CRIM    ZN  INDUS  CHAS    NOX     RM   AGE     DIS  RAD  TAX  PTRATIO  \\\n0  0.00632  18.0   2.31   0.0  0.538  6.575  65.2  4.0900    1  296     15.3   \n1  0.02731   0.0   7.07   0.0  0.469  6.421  78.9  4.9671    2  242     17.8   \n2  0.02729   0.0   7.07   0.0  0.469  7.185  61.1  4.9671    2  242     17.8   \n3  0.03237   0.0   2.18   0.0  0.458  6.998  45.8  6.0622    3  222     18.7   \n5  0.02985   0.0   2.18   0.0  0.458  6.430  58.7  6.0622    3  222     18.7   \n\n   LSTAT  \n0   4.98  \n1   9.14  \n2   4.03  \n3   2.94  \n5   5.21  ",
      "text/html": "<div>\n<style scoped>\n    .dataframe tbody tr th:only-of-type {\n        vertical-align: middle;\n    }\n\n    .dataframe tbody tr th {\n        vertical-align: top;\n    }\n\n    .dataframe thead th {\n        text-align: right;\n    }\n</style>\n<table border=\"1\" class=\"dataframe\">\n  <thead>\n    <tr style=\"text-align: right;\">\n      <th></th>\n      <th>CRIM</th>\n      <th>ZN</th>\n      <th>INDUS</th>\n      <th>CHAS</th>\n      <th>NOX</th>\n      <th>RM</th>\n      <th>AGE</th>\n      <th>DIS</th>\n      <th>RAD</th>\n      <th>TAX</th>\n      <th>PTRATIO</th>\n      <th>LSTAT</th>\n    </tr>\n  </thead>\n  <tbody>\n    <tr>\n      <th>0</th>\n      <td>0.00632</td>\n      <td>18.0</td>\n      <td>2.31</td>\n      <td>0.0</td>\n      <td>0.538</td>\n      <td>6.575</td>\n      <td>65.2</td>\n      <td>4.0900</td>\n      <td>1</td>\n      <td>296</td>\n      <td>15.3</td>\n      <td>4.98</td>\n    </tr>\n    <tr>\n      <th>1</th>\n      <td>0.02731</td>\n      <td>0.0</td>\n      <td>7.07</td>\n      <td>0.0</td>\n      <td>0.469</td>\n      <td>6.421</td>\n      <td>78.9</td>\n      <td>4.9671</td>\n      <td>2</td>\n      <td>242</td>\n      <td>17.8</td>\n      <td>9.14</td>\n    </tr>\n    <tr>\n      <th>2</th>\n      <td>0.02729</td>\n      <td>0.0</td>\n      <td>7.07</td>\n      <td>0.0</td>\n      <td>0.469</td>\n      <td>7.185</td>\n      <td>61.1</td>\n      <td>4.9671</td>\n      <td>2</td>\n      <td>242</td>\n      <td>17.8</td>\n      <td>4.03</td>\n    </tr>\n    <tr>\n      <th>3</th>\n      <td>0.03237</td>\n      <td>0.0</td>\n      <td>2.18</td>\n      <td>0.0</td>\n      <td>0.458</td>\n      <td>6.998</td>\n      <td>45.8</td>\n      <td>6.0622</td>\n      <td>3</td>\n      <td>222</td>\n      <td>18.7</td>\n      <td>2.94</td>\n    </tr>\n    <tr>\n      <th>5</th>\n      <td>0.02985</td>\n      <td>0.0</td>\n      <td>2.18</td>\n      <td>0.0</td>\n      <td>0.458</td>\n      <td>6.430</td>\n      <td>58.7</td>\n      <td>6.0622</td>\n      <td>3</td>\n      <td>222</td>\n      <td>18.7</td>\n      <td>5.21</td>\n    </tr>\n  </tbody>\n</table>\n</div>"
     },
     "execution_count": 13,
     "metadata": {},
     "output_type": "execute_result"
    }
   ],
   "source": [
    "X.head()"
   ],
   "execution_count": 13
  },
  {
   "cell_type": "code",
   "id": "de7be155-ba8d-4636-8f05-1e7249d13ecd",
   "metadata": {
    "ExecuteTime": {
     "end_time": "2023-12-07T11:36:20.889628Z",
     "start_time": "2023-12-07T11:36:20.874006400Z"
    }
   },
   "outputs": [
    {
     "data": {
      "text/plain": "0    24.0\n1    21.6\n2    34.7\n3    33.4\n5    28.7\nName: MEDV, dtype: float64"
     },
     "execution_count": 14,
     "metadata": {},
     "output_type": "execute_result"
    }
   ],
   "source": [
    "Y.head()"
   ],
   "execution_count": 14
  },
  {
   "cell_type": "markdown",
   "id": "4d8e1e55-e0dd-4c6e-83a9-899a87eb82dd",
   "metadata": {},
   "outputs": [],
   "source": [
    "Finally lets split our data into a training and testing dataset using `train_test_split` from `sklearn.model_selection`\n"
   ]
  },
  {
   "cell_type": "code",
   "id": "640d97bb-7cd2-401f-bb88-221ea4bca811",
   "metadata": {
    "ExecuteTime": {
     "end_time": "2023-12-07T11:36:22.818898Z",
     "start_time": "2023-12-07T11:36:22.803276400Z"
    }
   },
   "outputs": [],
   "source": [
    "X_train, X_test, Y_train, Y_test = train_test_split(X, Y, test_size=.2, random_state=1)"
   ],
   "execution_count": 15
  },
  {
   "cell_type": "markdown",
   "id": "2af404a1-7ac5-4f79-8b5c-0ccde33cbcaf",
   "metadata": {},
   "outputs": [],
   "source": [
    "## Create Regression Tree\n"
   ]
  },
  {
   "cell_type": "markdown",
   "id": "0f6ba13d-19df-4d03-b329-cd6af58154a4",
   "metadata": {},
   "outputs": [],
   "source": [
    "Regression Trees are implemented using `DecisionTreeRegressor` from `sklearn.tree`\n",
    "\n",
    "The important parameters of `DecisionTreeRegressor` are\n",
    "\n",
    "`criterion`: {\"mse\", \"friedman_mse\", \"mae\", \"poisson\"} - The function used to measure error\n",
    "\n",
    "`max_depth` - The max depth the tree can be\n",
    "\n",
    "`min_samples_split` - The minimum number of samples required to split a node\n",
    "\n",
    "`min_samples_leaf` - The minimum number of samples that a leaf can contain\n",
    "\n",
    "`max_features`: {\"auto\", \"sqrt\", \"log2\"} - The number of feature we examine looking for the best one, used to speed up training\n"
   ]
  },
  {
   "cell_type": "markdown",
   "id": "e6d560b3-b7d3-4de3-904e-51b65a077756",
   "metadata": {},
   "outputs": [],
   "source": [
    "First lets start by creating a `DecisionTreeRegressor` object,  setting the `criterion` parameter to `squared_error` for  Squared Error\n"
   ]
  },
  {
   "cell_type": "code",
   "id": "5c525375-74f7-4a99-9f56-6293279c7d89",
   "metadata": {
    "ExecuteTime": {
     "end_time": "2023-12-07T11:36:32.532764200Z",
     "start_time": "2023-12-07T11:36:32.517149100Z"
    }
   },
   "outputs": [],
   "source": [
    "regression_tree = DecisionTreeRegressor(criterion = 'squared_error')"
   ],
   "execution_count": 16
  },
  {
   "cell_type": "markdown",
   "id": "ea02f191-5b77-417a-86f9-4dd9c75dd73b",
   "metadata": {},
   "outputs": [],
   "source": [
    "## Training\n"
   ]
  },
  {
   "cell_type": "markdown",
   "id": "de93cb8b-a5ae-4da7-863a-f6c8f3210246",
   "metadata": {},
   "outputs": [],
   "source": [
    "Now lets train our model using the `fit` method on the `DecisionTreeRegressor` object providing our training data\n"
   ]
  },
  {
   "cell_type": "code",
   "id": "5721722c-8fef-4a9d-8f51-42490bec889e",
   "metadata": {
    "ExecuteTime": {
     "end_time": "2023-12-07T11:36:36.255852600Z",
     "start_time": "2023-12-07T11:36:36.208985900Z"
    }
   },
   "outputs": [
    {
     "data": {
      "text/plain": "DecisionTreeRegressor()",
      "text/html": "<style>#sk-container-id-1 {color: black;}#sk-container-id-1 pre{padding: 0;}#sk-container-id-1 div.sk-toggleable {background-color: white;}#sk-container-id-1 label.sk-toggleable__label {cursor: pointer;display: block;width: 100%;margin-bottom: 0;padding: 0.3em;box-sizing: border-box;text-align: center;}#sk-container-id-1 label.sk-toggleable__label-arrow:before {content: \"▸\";float: left;margin-right: 0.25em;color: #696969;}#sk-container-id-1 label.sk-toggleable__label-arrow:hover:before {color: black;}#sk-container-id-1 div.sk-estimator:hover label.sk-toggleable__label-arrow:before {color: black;}#sk-container-id-1 div.sk-toggleable__content {max-height: 0;max-width: 0;overflow: hidden;text-align: left;background-color: #f0f8ff;}#sk-container-id-1 div.sk-toggleable__content pre {margin: 0.2em;color: black;border-radius: 0.25em;background-color: #f0f8ff;}#sk-container-id-1 input.sk-toggleable__control:checked~div.sk-toggleable__content {max-height: 200px;max-width: 100%;overflow: auto;}#sk-container-id-1 input.sk-toggleable__control:checked~label.sk-toggleable__label-arrow:before {content: \"▾\";}#sk-container-id-1 div.sk-estimator input.sk-toggleable__control:checked~label.sk-toggleable__label {background-color: #d4ebff;}#sk-container-id-1 div.sk-label input.sk-toggleable__control:checked~label.sk-toggleable__label {background-color: #d4ebff;}#sk-container-id-1 input.sk-hidden--visually {border: 0;clip: rect(1px 1px 1px 1px);clip: rect(1px, 1px, 1px, 1px);height: 1px;margin: -1px;overflow: hidden;padding: 0;position: absolute;width: 1px;}#sk-container-id-1 div.sk-estimator {font-family: monospace;background-color: #f0f8ff;border: 1px dotted black;border-radius: 0.25em;box-sizing: border-box;margin-bottom: 0.5em;}#sk-container-id-1 div.sk-estimator:hover {background-color: #d4ebff;}#sk-container-id-1 div.sk-parallel-item::after {content: \"\";width: 100%;border-bottom: 1px solid gray;flex-grow: 1;}#sk-container-id-1 div.sk-label:hover label.sk-toggleable__label {background-color: #d4ebff;}#sk-container-id-1 div.sk-serial::before {content: \"\";position: absolute;border-left: 1px solid gray;box-sizing: border-box;top: 0;bottom: 0;left: 50%;z-index: 0;}#sk-container-id-1 div.sk-serial {display: flex;flex-direction: column;align-items: center;background-color: white;padding-right: 0.2em;padding-left: 0.2em;position: relative;}#sk-container-id-1 div.sk-item {position: relative;z-index: 1;}#sk-container-id-1 div.sk-parallel {display: flex;align-items: stretch;justify-content: center;background-color: white;position: relative;}#sk-container-id-1 div.sk-item::before, #sk-container-id-1 div.sk-parallel-item::before {content: \"\";position: absolute;border-left: 1px solid gray;box-sizing: border-box;top: 0;bottom: 0;left: 50%;z-index: -1;}#sk-container-id-1 div.sk-parallel-item {display: flex;flex-direction: column;z-index: 1;position: relative;background-color: white;}#sk-container-id-1 div.sk-parallel-item:first-child::after {align-self: flex-end;width: 50%;}#sk-container-id-1 div.sk-parallel-item:last-child::after {align-self: flex-start;width: 50%;}#sk-container-id-1 div.sk-parallel-item:only-child::after {width: 0;}#sk-container-id-1 div.sk-dashed-wrapped {border: 1px dashed gray;margin: 0 0.4em 0.5em 0.4em;box-sizing: border-box;padding-bottom: 0.4em;background-color: white;}#sk-container-id-1 div.sk-label label {font-family: monospace;font-weight: bold;display: inline-block;line-height: 1.2em;}#sk-container-id-1 div.sk-label-container {text-align: center;}#sk-container-id-1 div.sk-container {/* jupyter's `normalize.less` sets `[hidden] { display: none; }` but bootstrap.min.css set `[hidden] { display: none !important; }` so we also need the `!important` here to be able to override the default hidden behavior on the sphinx rendered scikit-learn.org. See: https://github.com/scikit-learn/scikit-learn/issues/21755 */display: inline-block !important;position: relative;}#sk-container-id-1 div.sk-text-repr-fallback {display: none;}</style><div id=\"sk-container-id-1\" class=\"sk-top-container\"><div class=\"sk-text-repr-fallback\"><pre>DecisionTreeRegressor()</pre><b>In a Jupyter environment, please rerun this cell to show the HTML representation or trust the notebook. <br />On GitHub, the HTML representation is unable to render, please try loading this page with nbviewer.org.</b></div><div class=\"sk-container\" hidden><div class=\"sk-item\"><div class=\"sk-estimator sk-toggleable\"><input class=\"sk-toggleable__control sk-hidden--visually\" id=\"sk-estimator-id-1\" type=\"checkbox\" checked><label for=\"sk-estimator-id-1\" class=\"sk-toggleable__label sk-toggleable__label-arrow\">DecisionTreeRegressor</label><div class=\"sk-toggleable__content\"><pre>DecisionTreeRegressor()</pre></div></div></div></div></div>"
     },
     "execution_count": 17,
     "metadata": {},
     "output_type": "execute_result"
    }
   ],
   "source": [
    "regression_tree.fit(X_train, Y_train)"
   ],
   "execution_count": 17
  },
  {
   "cell_type": "markdown",
   "id": "65d5670a-d496-4593-80a2-49632e3ac0cb",
   "metadata": {},
   "outputs": [],
   "source": [
    "## Evaluation\n"
   ]
  },
  {
   "cell_type": "markdown",
   "id": "58fa67cf-9871-4930-8c56-9444db4f731f",
   "metadata": {},
   "outputs": [],
   "source": [
    "To evaluate our dataset we will use the `score` method of the `DecisionTreeRegressor` object providing our testing data, this number is the $R^2$ value which indicates the coefficient of determination\n"
   ]
  },
  {
   "cell_type": "code",
   "id": "9664add8-99e0-45ce-80c5-1409d37e97a5",
   "metadata": {
    "ExecuteTime": {
     "end_time": "2023-12-07T11:36:41.516330100Z",
     "start_time": "2023-12-07T11:36:41.485046800Z"
    }
   },
   "outputs": [
    {
     "data": {
      "text/plain": "0.756465199398118"
     },
     "execution_count": 18,
     "metadata": {},
     "output_type": "execute_result"
    }
   ],
   "source": [
    "regression_tree.score(X_test, Y_test)"
   ],
   "execution_count": 18
  },
  {
   "cell_type": "markdown",
   "id": "7d9defc7-f65f-46e1-a342-827b0c58e55a",
   "metadata": {},
   "outputs": [],
   "source": [
    "We can also find the average error in our testing set which is the average error in median home value prediction\n"
   ]
  },
  {
   "cell_type": "code",
   "id": "3c9d123d-0b29-41b3-90aa-78430b42cad6",
   "metadata": {
    "ExecuteTime": {
     "end_time": "2023-12-07T11:36:43.980092Z",
     "start_time": "2023-12-07T11:36:43.948850100Z"
    }
   },
   "outputs": [
    {
     "name": "stdout",
     "output_type": "stream",
     "text": [
      "$ 3016.4556962025313\n"
     ]
    }
   ],
   "source": [
    "prediction = regression_tree.predict(X_test)\n",
    "\n",
    "print(\"$\",(prediction - Y_test).abs().mean()*1000)"
   ],
   "execution_count": 19
  },
  {
   "cell_type": "markdown",
   "id": "0d9cfdb1-3872-4156-bcd7-4367d26c46fb",
   "metadata": {},
   "outputs": [],
   "source": [
    "## Excercise\n"
   ]
  },
  {
   "cell_type": "markdown",
   "id": "36905a54-9119-4415-bac6-72dab560031d",
   "metadata": {},
   "outputs": [],
   "source": [
    "Train a regression tree using the `criterion` `mae` then report its $R^2$ value and average error\n"
   ]
  },
  {
   "cell_type": "code",
   "id": "66ef6ada-43f3-4d02-889c-18d6e6fcd7d6",
   "metadata": {
    "ExecuteTime": {
     "end_time": "2023-12-07T11:38:48.848317100Z",
     "start_time": "2023-12-07T11:38:48.810751700Z"
    }
   },
   "outputs": [
    {
     "name": "stdout",
     "output_type": "stream",
     "text": [
      "0.870169618400702\n",
      "$ 2622.7848101265818\n"
     ]
    }
   ],
   "source": [
    "regression_tree = DecisionTreeRegressor(criterion = \"absolute_error\")\n",
    "\n",
    "regression_tree.fit(X_train, Y_train)\n",
    "\n",
    "print(regression_tree.score(X_test, Y_test))\n",
    "\n",
    "prediction = regression_tree.predict(X_test)\n",
    "\n",
    "print(\"$\",(prediction - Y_test).abs().mean()*1000)"
   ],
   "execution_count": 21
  },
  {
   "cell_type": "markdown",
   "id": "de69c8c1-fe06-4efe-b4e0-cce4d11defa9",
   "metadata": {},
   "outputs": [],
   "source": [
    "<details><summary>Click here for the solution</summary>\n",
    "\n",
    "```python\n",
    "regression_tree = DecisionTreeRegressor(criterion = \"mae\")\n",
    "\n",
    "regression_tree.fit(X_train, Y_train)\n",
    "\n",
    "print(regression_tree.score(X_test, Y_test))\n",
    "\n",
    "prediction = regression_tree.predict(X_test)\n",
    "\n",
    "print(\"$\",(prediction - Y_test).abs().mean()*1000)\n",
    "\n",
    "```\n",
    "\n",
    "</details>\n"
   ]
  },
  {
   "cell_type": "code",
   "execution_count": null,
   "outputs": [],
   "source": [],
   "metadata": {
    "collapsed": false
   }
  }
 ],
 "metadata": {
  "kernelspec": {
   "name": "python3",
   "language": "python",
   "display_name": "Python 3 (ipykernel)"
  },
  "language_info": {
   "name": ""
  }
 },
 "nbformat": 4,
 "nbformat_minor": 4
}
