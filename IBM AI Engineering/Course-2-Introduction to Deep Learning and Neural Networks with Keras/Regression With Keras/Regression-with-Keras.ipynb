{
 "cells": [
  {
   "cell_type": "markdown",
   "id": "701048de-7a54-48c4-b441-9d3ddc412e2f",
   "metadata": {},
   "outputs": [],
   "source": [
    "<h1 align=center><font size = 5>Regression Models with Keras</font></h1>\n"
   ]
  },
  {
   "cell_type": "markdown",
   "id": "bbaea2bd-fdfa-4cf2-a527-4a247a75ac0c",
   "metadata": {},
   "outputs": [],
   "source": [
    "## Introduction\n"
   ]
  },
  {
   "cell_type": "markdown",
   "id": "aae0d793-e6d6-4e53-80fe-181ef4308c2a",
   "metadata": {},
   "outputs": [],
   "source": [
    "Despite the popularity of more powerful libraries such as PyTorch and TensorFlow, they are not easy to use and have a steep learning curve. So, for people who are just starting to learn deep learning, there is no better library to use other than the Keras library.\n",
    "\n",
    "Keras is a high-level API for building deep learning models. It has gained favor for its ease of use and syntactic simplicity facilitating fast development. As you will see in this lab and the other labs in this course, building a very complex deep learning network can be achieved with Keras with only few lines of code. You will appreciate Keras even more, once you learn how to build deep models using PyTorch and TensorFlow in the other courses.\n",
    "\n",
    "So, in this lab, you will learn how to use the Keras library to build a regression model.\n"
   ]
  },
  {
   "cell_type": "markdown",
   "id": "022a0ec2-3cea-417e-8889-5c65caf971f0",
   "metadata": {},
   "outputs": [],
   "source": [
    "<h2>Regression Models with Keras</h2>\n",
    "\n",
    "<h3>Objective for this Notebook<h3>    \n",
    "<h5> 1. How to use the Keras library to build a regression model.</h5>\n",
    "<h5> 2. Download and Clean dataset </h5>\n",
    "<h5> 3. Build a Neural Network </h5>\n",
    "<h5> 4. Train and Test the Network. </h5>     \n",
    "\n"
   ]
  },
  {
   "cell_type": "markdown",
   "id": "ee476fb0-f7f9-4ee3-a8ca-5c9bb62056cd",
   "metadata": {},
   "outputs": [],
   "source": [
    "## Table of Contents\n",
    "\n",
    "<div class=\"alert alert-block alert-info\" style=\"margin-top: 20px\">\n",
    "\n",
    "<font size = 3>\n",
    "    \n",
    "1. <a href=\"#item31\">Download and Clean Dataset</a>  \n",
    "2. <a href=\"#item32\">Import Keras</a>  \n",
    "3. <a href=\"#item33\">Build a Neural Network</a>  \n",
    "4. <a href=\"#item34\">Train and Test the Network</a>  \n",
    "\n",
    "</font>\n",
    "</div>\n"
   ]
  },
  {
   "cell_type": "markdown",
   "id": "7efcf931-5ad5-4324-ab17-31aa0e2b977a",
   "metadata": {},
   "outputs": [],
   "source": [
    "<a id=\"item31\"></a>\n"
   ]
  },
  {
   "cell_type": "markdown",
   "id": "b1ea8f0d-afcb-48cf-90c1-cdd14bbebde5",
   "metadata": {},
   "outputs": [],
   "source": [
    "## Download and Clean Dataset\n"
   ]
  },
  {
   "cell_type": "markdown",
   "id": "ec856cd2-190b-4644-92f7-77fce8ebb882",
   "metadata": {},
   "outputs": [],
   "source": [
    "Let's start by importing the <em>pandas</em> and the Numpy libraries.\n"
   ]
  },
  {
   "cell_type": "code",
   "id": "d8c79c74-f278-4db8-94f5-c9101c2e9881",
   "metadata": {
    "ExecuteTime": {
     "end_time": "2023-12-16T08:25:25.303734Z",
     "start_time": "2023-12-16T08:25:24.694440400Z"
    }
   },
   "outputs": [],
   "source": [
    "import pandas as pd\n",
    "import numpy as np"
   ],
   "execution_count": 1
  },
  {
   "cell_type": "markdown",
   "id": "b4e0dcc2-99b1-466c-8086-6712cc5b40e4",
   "metadata": {},
   "outputs": [],
   "source": [
    "\n",
    "<strong>The dataset is about the compressive strength of different samples of concrete based on the volumes of the different ingredients that were used to make them. Ingredients include:</strong>\n",
    "\n",
    "<strong>1. Cement</strong>\n",
    "\n",
    "<strong>2. Blast Furnace Slag</strong>\n",
    "\n",
    "<strong>3. Fly Ash</strong>\n",
    "\n",
    "<strong>4. Water</strong>\n",
    "\n",
    "<strong>5. Superplasticizer</strong>\n",
    "\n",
    "<strong>6. Coarse Aggregate</strong>\n",
    "\n",
    "<strong>7. Fine Aggregate</strong>\n"
   ]
  },
  {
   "cell_type": "markdown",
   "id": "6be3d86c-1d4d-43c2-88d0-0f4f681a331a",
   "metadata": {},
   "outputs": [],
   "source": [
    "Let's download the data and read it into a <em>pandas</em> dataframe.\n"
   ]
  },
  {
   "cell_type": "code",
   "id": "d2a0e8cf-4872-406f-ae9f-7bbd13de4868",
   "metadata": {
    "ExecuteTime": {
     "end_time": "2023-12-16T08:28:37.808803100Z",
     "start_time": "2023-12-16T08:28:34.882277700Z"
    }
   },
   "outputs": [
    {
     "name": "stderr",
     "output_type": "stream",
     "text": [
      "  % Total    % Received % Xferd  Average Speed   Time    Time     Time  Current\n",
      "                                 Dload  Upload   Total   Spent    Left  Speed\n",
      "\n",
      "  0     0    0     0    0     0      0      0 --:--:-- --:--:-- --:--:--     0\n",
      "  0     0    0     0    0     0      0      0 --:--:--  0:00:01 --:--:--     0\n",
      " 26 58988   26 15443    0     0   7401      0  0:00:07  0:00:02  0:00:05  7410\n",
      "100 58988  100 58988    0     0  21116      0  0:00:02  0:00:02 --:--:-- 21135\n"
     ]
    },
    {
     "data": {
      "text/plain": "   Cement  Blast Furnace Slag  Fly Ash  Water  Superplasticizer  \\\n0   540.0                 0.0      0.0  162.0               2.5   \n1   540.0                 0.0      0.0  162.0               2.5   \n2   332.5               142.5      0.0  228.0               0.0   \n3   332.5               142.5      0.0  228.0               0.0   \n4   198.6               132.4      0.0  192.0               0.0   \n\n   Coarse Aggregate  Fine Aggregate  Age  Strength  \n0            1040.0           676.0   28     79.99  \n1            1055.0           676.0   28     61.89  \n2             932.0           594.0  270     40.27  \n3             932.0           594.0  365     41.05  \n4             978.4           825.5  360     44.30  ",
      "text/html": "<div>\n<style scoped>\n    .dataframe tbody tr th:only-of-type {\n        vertical-align: middle;\n    }\n\n    .dataframe tbody tr th {\n        vertical-align: top;\n    }\n\n    .dataframe thead th {\n        text-align: right;\n    }\n</style>\n<table border=\"1\" class=\"dataframe\">\n  <thead>\n    <tr style=\"text-align: right;\">\n      <th></th>\n      <th>Cement</th>\n      <th>Blast Furnace Slag</th>\n      <th>Fly Ash</th>\n      <th>Water</th>\n      <th>Superplasticizer</th>\n      <th>Coarse Aggregate</th>\n      <th>Fine Aggregate</th>\n      <th>Age</th>\n      <th>Strength</th>\n    </tr>\n  </thead>\n  <tbody>\n    <tr>\n      <th>0</th>\n      <td>540.0</td>\n      <td>0.0</td>\n      <td>0.0</td>\n      <td>162.0</td>\n      <td>2.5</td>\n      <td>1040.0</td>\n      <td>676.0</td>\n      <td>28</td>\n      <td>79.99</td>\n    </tr>\n    <tr>\n      <th>1</th>\n      <td>540.0</td>\n      <td>0.0</td>\n      <td>0.0</td>\n      <td>162.0</td>\n      <td>2.5</td>\n      <td>1055.0</td>\n      <td>676.0</td>\n      <td>28</td>\n      <td>61.89</td>\n    </tr>\n    <tr>\n      <th>2</th>\n      <td>332.5</td>\n      <td>142.5</td>\n      <td>0.0</td>\n      <td>228.0</td>\n      <td>0.0</td>\n      <td>932.0</td>\n      <td>594.0</td>\n      <td>270</td>\n      <td>40.27</td>\n    </tr>\n    <tr>\n      <th>3</th>\n      <td>332.5</td>\n      <td>142.5</td>\n      <td>0.0</td>\n      <td>228.0</td>\n      <td>0.0</td>\n      <td>932.0</td>\n      <td>594.0</td>\n      <td>365</td>\n      <td>41.05</td>\n    </tr>\n    <tr>\n      <th>4</th>\n      <td>198.6</td>\n      <td>132.4</td>\n      <td>0.0</td>\n      <td>192.0</td>\n      <td>0.0</td>\n      <td>978.4</td>\n      <td>825.5</td>\n      <td>360</td>\n      <td>44.30</td>\n    </tr>\n  </tbody>\n</table>\n</div>"
     },
     "execution_count": 3,
     "metadata": {},
     "output_type": "execute_result"
    }
   ],
   "source": [
    "!curl https://s3-api.us-geo.objectstorage.softlayer.net/cf-courses-data/CognitiveClass/DL0101EN/labs/data/concrete_data.csv -o concrete_data.csv\n",
    "\n",
    "concrete_data = pd.read_csv('concrete_data.csv')\n",
    "concrete_data.head()"
   ],
   "execution_count": 3
  },
  {
   "cell_type": "markdown",
   "id": "2469361b-b36c-4ea0-9687-1d913f38ca0c",
   "metadata": {},
   "outputs": [],
   "source": [
    "So the first concrete sample has 540 cubic meter of cement, 0 cubic meter of blast furnace slag, 0 cubic meter of fly ash, 162 cubic meter of water, 2.5 cubic meter of superplaticizer, 1040 cubic meter of coarse aggregate, 676 cubic meter of fine aggregate. Such a concrete mix which is 28 days old, has a compressive strength of 79.99 MPa. \n"
   ]
  },
  {
   "cell_type": "markdown",
   "id": "d709c0e6-fd74-4682-bd73-7512fc9d654f",
   "metadata": {},
   "outputs": [],
   "source": [
    "#### Let's check how many data points we have.\n"
   ]
  },
  {
   "cell_type": "code",
   "id": "bb271395-98f0-42b8-8376-870dc5f4e0b6",
   "metadata": {
    "ExecuteTime": {
     "end_time": "2023-12-16T08:28:48.527031600Z",
     "start_time": "2023-12-16T08:28:48.511242800Z"
    }
   },
   "outputs": [
    {
     "data": {
      "text/plain": "(1030, 9)"
     },
     "execution_count": 4,
     "metadata": {},
     "output_type": "execute_result"
    }
   ],
   "source": [
    "concrete_data.shape"
   ],
   "execution_count": 4
  },
  {
   "cell_type": "markdown",
   "id": "34eae67d-3db4-4505-91fb-a7586a5e2688",
   "metadata": {},
   "outputs": [],
   "source": [
    "So, there are approximately 1000 samples to train our model on. Because of the few samples, we have to be careful not to overfit the training data.\n"
   ]
  },
  {
   "cell_type": "markdown",
   "id": "fff37414-8422-49bd-a001-2106c5b88ac1",
   "metadata": {},
   "outputs": [],
   "source": [
    "Let's check the dataset for any missing values.\n"
   ]
  },
  {
   "cell_type": "code",
   "id": "d2de8710-0378-4002-9a6f-c458b594e2d4",
   "metadata": {
    "ExecuteTime": {
     "end_time": "2023-12-16T08:28:54.180406Z",
     "start_time": "2023-12-16T08:28:54.149129100Z"
    }
   },
   "outputs": [
    {
     "data": {
      "text/plain": "            Cement  Blast Furnace Slag      Fly Ash        Water  \\\ncount  1030.000000         1030.000000  1030.000000  1030.000000   \nmean    281.167864           73.895825    54.188350   181.567282   \nstd     104.506364           86.279342    63.997004    21.354219   \nmin     102.000000            0.000000     0.000000   121.800000   \n25%     192.375000            0.000000     0.000000   164.900000   \n50%     272.900000           22.000000     0.000000   185.000000   \n75%     350.000000          142.950000   118.300000   192.000000   \nmax     540.000000          359.400000   200.100000   247.000000   \n\n       Superplasticizer  Coarse Aggregate  Fine Aggregate          Age  \\\ncount       1030.000000       1030.000000     1030.000000  1030.000000   \nmean           6.204660        972.918932      773.580485    45.662136   \nstd            5.973841         77.753954       80.175980    63.169912   \nmin            0.000000        801.000000      594.000000     1.000000   \n25%            0.000000        932.000000      730.950000     7.000000   \n50%            6.400000        968.000000      779.500000    28.000000   \n75%           10.200000       1029.400000      824.000000    56.000000   \nmax           32.200000       1145.000000      992.600000   365.000000   \n\n          Strength  \ncount  1030.000000  \nmean     35.817961  \nstd      16.705742  \nmin       2.330000  \n25%      23.710000  \n50%      34.445000  \n75%      46.135000  \nmax      82.600000  ",
      "text/html": "<div>\n<style scoped>\n    .dataframe tbody tr th:only-of-type {\n        vertical-align: middle;\n    }\n\n    .dataframe tbody tr th {\n        vertical-align: top;\n    }\n\n    .dataframe thead th {\n        text-align: right;\n    }\n</style>\n<table border=\"1\" class=\"dataframe\">\n  <thead>\n    <tr style=\"text-align: right;\">\n      <th></th>\n      <th>Cement</th>\n      <th>Blast Furnace Slag</th>\n      <th>Fly Ash</th>\n      <th>Water</th>\n      <th>Superplasticizer</th>\n      <th>Coarse Aggregate</th>\n      <th>Fine Aggregate</th>\n      <th>Age</th>\n      <th>Strength</th>\n    </tr>\n  </thead>\n  <tbody>\n    <tr>\n      <th>count</th>\n      <td>1030.000000</td>\n      <td>1030.000000</td>\n      <td>1030.000000</td>\n      <td>1030.000000</td>\n      <td>1030.000000</td>\n      <td>1030.000000</td>\n      <td>1030.000000</td>\n      <td>1030.000000</td>\n      <td>1030.000000</td>\n    </tr>\n    <tr>\n      <th>mean</th>\n      <td>281.167864</td>\n      <td>73.895825</td>\n      <td>54.188350</td>\n      <td>181.567282</td>\n      <td>6.204660</td>\n      <td>972.918932</td>\n      <td>773.580485</td>\n      <td>45.662136</td>\n      <td>35.817961</td>\n    </tr>\n    <tr>\n      <th>std</th>\n      <td>104.506364</td>\n      <td>86.279342</td>\n      <td>63.997004</td>\n      <td>21.354219</td>\n      <td>5.973841</td>\n      <td>77.753954</td>\n      <td>80.175980</td>\n      <td>63.169912</td>\n      <td>16.705742</td>\n    </tr>\n    <tr>\n      <th>min</th>\n      <td>102.000000</td>\n      <td>0.000000</td>\n      <td>0.000000</td>\n      <td>121.800000</td>\n      <td>0.000000</td>\n      <td>801.000000</td>\n      <td>594.000000</td>\n      <td>1.000000</td>\n      <td>2.330000</td>\n    </tr>\n    <tr>\n      <th>25%</th>\n      <td>192.375000</td>\n      <td>0.000000</td>\n      <td>0.000000</td>\n      <td>164.900000</td>\n      <td>0.000000</td>\n      <td>932.000000</td>\n      <td>730.950000</td>\n      <td>7.000000</td>\n      <td>23.710000</td>\n    </tr>\n    <tr>\n      <th>50%</th>\n      <td>272.900000</td>\n      <td>22.000000</td>\n      <td>0.000000</td>\n      <td>185.000000</td>\n      <td>6.400000</td>\n      <td>968.000000</td>\n      <td>779.500000</td>\n      <td>28.000000</td>\n      <td>34.445000</td>\n    </tr>\n    <tr>\n      <th>75%</th>\n      <td>350.000000</td>\n      <td>142.950000</td>\n      <td>118.300000</td>\n      <td>192.000000</td>\n      <td>10.200000</td>\n      <td>1029.400000</td>\n      <td>824.000000</td>\n      <td>56.000000</td>\n      <td>46.135000</td>\n    </tr>\n    <tr>\n      <th>max</th>\n      <td>540.000000</td>\n      <td>359.400000</td>\n      <td>200.100000</td>\n      <td>247.000000</td>\n      <td>32.200000</td>\n      <td>1145.000000</td>\n      <td>992.600000</td>\n      <td>365.000000</td>\n      <td>82.600000</td>\n    </tr>\n  </tbody>\n</table>\n</div>"
     },
     "execution_count": 5,
     "metadata": {},
     "output_type": "execute_result"
    }
   ],
   "source": [
    "concrete_data.describe()"
   ],
   "execution_count": 5
  },
  {
   "cell_type": "code",
   "id": "691ea21d-a583-4183-9d7e-442da86aa485",
   "metadata": {
    "ExecuteTime": {
     "end_time": "2023-12-16T08:28:58.910790200Z",
     "start_time": "2023-12-16T08:28:58.879709500Z"
    }
   },
   "outputs": [
    {
     "data": {
      "text/plain": "Cement                0\nBlast Furnace Slag    0\nFly Ash               0\nWater                 0\nSuperplasticizer      0\nCoarse Aggregate      0\nFine Aggregate        0\nAge                   0\nStrength              0\ndtype: int64"
     },
     "execution_count": 6,
     "metadata": {},
     "output_type": "execute_result"
    }
   ],
   "source": [
    "concrete_data.isnull().sum()"
   ],
   "execution_count": 6
  },
  {
   "cell_type": "markdown",
   "id": "d31a4a08-b54a-4f2e-928b-676105401628",
   "metadata": {},
   "outputs": [],
   "source": [
    "The data looks very clean and is ready to be used to build our model.\n"
   ]
  },
  {
   "cell_type": "markdown",
   "id": "bbe6524c-55c3-4fb9-a3e8-ed65f828c160",
   "metadata": {},
   "outputs": [],
   "source": [
    "#### Split data into predictors and target\n"
   ]
  },
  {
   "cell_type": "markdown",
   "id": "fa62e25b-90cb-4a5c-b594-c172bacccbc8",
   "metadata": {},
   "outputs": [],
   "source": [
    "The target variable in this problem is the concrete sample strength. Therefore, our predictors will be all the other columns.\n"
   ]
  },
  {
   "cell_type": "code",
   "id": "36b3e2ff-fe91-4749-a277-aa418ced9999",
   "metadata": {
    "ExecuteTime": {
     "end_time": "2023-12-16T08:29:07.667013200Z",
     "start_time": "2023-12-16T08:29:07.651532200Z"
    }
   },
   "outputs": [],
   "source": [
    "concrete_data_columns = concrete_data.columns\n",
    "\n",
    "predictors = concrete_data[concrete_data_columns[concrete_data_columns != 'Strength']] # all columns except Strength\n",
    "target = concrete_data['Strength'] # Strength column"
   ],
   "execution_count": 7
  },
  {
   "cell_type": "markdown",
   "id": "6de05c92-ce6b-45b0-89d9-8247e82cef24",
   "metadata": {},
   "outputs": [],
   "source": [
    "<a id=\"item2\"></a>\n"
   ]
  },
  {
   "cell_type": "markdown",
   "id": "c7fc5dcc-2f7e-49ef-8f4f-029bd6949f42",
   "metadata": {},
   "outputs": [],
   "source": [
    "Let's do a quick sanity check of the predictors and the target dataframes.\n"
   ]
  },
  {
   "cell_type": "code",
   "id": "72fd40b0-b896-458e-8b01-5265e84b2f4f",
   "metadata": {
    "ExecuteTime": {
     "end_time": "2023-12-16T08:29:12.650778800Z",
     "start_time": "2023-12-16T08:29:12.635180200Z"
    }
   },
   "outputs": [
    {
     "data": {
      "text/plain": "   Cement  Blast Furnace Slag  Fly Ash  Water  Superplasticizer  \\\n0   540.0                 0.0      0.0  162.0               2.5   \n1   540.0                 0.0      0.0  162.0               2.5   \n2   332.5               142.5      0.0  228.0               0.0   \n3   332.5               142.5      0.0  228.0               0.0   \n4   198.6               132.4      0.0  192.0               0.0   \n\n   Coarse Aggregate  Fine Aggregate  Age  \n0            1040.0           676.0   28  \n1            1055.0           676.0   28  \n2             932.0           594.0  270  \n3             932.0           594.0  365  \n4             978.4           825.5  360  ",
      "text/html": "<div>\n<style scoped>\n    .dataframe tbody tr th:only-of-type {\n        vertical-align: middle;\n    }\n\n    .dataframe tbody tr th {\n        vertical-align: top;\n    }\n\n    .dataframe thead th {\n        text-align: right;\n    }\n</style>\n<table border=\"1\" class=\"dataframe\">\n  <thead>\n    <tr style=\"text-align: right;\">\n      <th></th>\n      <th>Cement</th>\n      <th>Blast Furnace Slag</th>\n      <th>Fly Ash</th>\n      <th>Water</th>\n      <th>Superplasticizer</th>\n      <th>Coarse Aggregate</th>\n      <th>Fine Aggregate</th>\n      <th>Age</th>\n    </tr>\n  </thead>\n  <tbody>\n    <tr>\n      <th>0</th>\n      <td>540.0</td>\n      <td>0.0</td>\n      <td>0.0</td>\n      <td>162.0</td>\n      <td>2.5</td>\n      <td>1040.0</td>\n      <td>676.0</td>\n      <td>28</td>\n    </tr>\n    <tr>\n      <th>1</th>\n      <td>540.0</td>\n      <td>0.0</td>\n      <td>0.0</td>\n      <td>162.0</td>\n      <td>2.5</td>\n      <td>1055.0</td>\n      <td>676.0</td>\n      <td>28</td>\n    </tr>\n    <tr>\n      <th>2</th>\n      <td>332.5</td>\n      <td>142.5</td>\n      <td>0.0</td>\n      <td>228.0</td>\n      <td>0.0</td>\n      <td>932.0</td>\n      <td>594.0</td>\n      <td>270</td>\n    </tr>\n    <tr>\n      <th>3</th>\n      <td>332.5</td>\n      <td>142.5</td>\n      <td>0.0</td>\n      <td>228.0</td>\n      <td>0.0</td>\n      <td>932.0</td>\n      <td>594.0</td>\n      <td>365</td>\n    </tr>\n    <tr>\n      <th>4</th>\n      <td>198.6</td>\n      <td>132.4</td>\n      <td>0.0</td>\n      <td>192.0</td>\n      <td>0.0</td>\n      <td>978.4</td>\n      <td>825.5</td>\n      <td>360</td>\n    </tr>\n  </tbody>\n</table>\n</div>"
     },
     "execution_count": 8,
     "metadata": {},
     "output_type": "execute_result"
    }
   ],
   "source": [
    "predictors.head()"
   ],
   "execution_count": 8
  },
  {
   "cell_type": "code",
   "id": "aa50d52e-1237-4f54-9e74-3a6e53d6f492",
   "metadata": {
    "ExecuteTime": {
     "end_time": "2023-12-16T08:29:16.312546200Z",
     "start_time": "2023-12-16T08:29:16.296911800Z"
    }
   },
   "outputs": [
    {
     "data": {
      "text/plain": "0    79.99\n1    61.89\n2    40.27\n3    41.05\n4    44.30\nName: Strength, dtype: float64"
     },
     "execution_count": 9,
     "metadata": {},
     "output_type": "execute_result"
    }
   ],
   "source": [
    "target.head()"
   ],
   "execution_count": 9
  },
  {
   "cell_type": "markdown",
   "id": "54adb38c-defc-4156-98a2-0125354acc5f",
   "metadata": {},
   "outputs": [],
   "source": [
    "Finally, the last step is to normalize the data by substracting the mean and dividing by the standard deviation.\n"
   ]
  },
  {
   "cell_type": "code",
   "id": "107277b0-9d5e-4ca1-8dcd-6ecea06ccfa7",
   "metadata": {
    "ExecuteTime": {
     "end_time": "2023-12-16T08:29:37.004036400Z",
     "start_time": "2023-12-16T08:29:36.988285900Z"
    }
   },
   "outputs": [
    {
     "data": {
      "text/plain": "     Cement  Blast Furnace Slag   Fly Ash     Water  Superplasticizer  \\\n0  2.476712           -0.856472 -0.846733 -0.916319         -0.620147   \n1  2.476712           -0.856472 -0.846733 -0.916319         -0.620147   \n2  0.491187            0.795140 -0.846733  2.174405         -1.038638   \n3  0.491187            0.795140 -0.846733  2.174405         -1.038638   \n4 -0.790075            0.678079 -0.846733  0.488555         -1.038638   \n\n   Coarse Aggregate  Fine Aggregate       Age  \n0          0.862735       -1.217079 -0.279597  \n1          1.055651       -1.217079 -0.279597  \n2         -0.526262       -2.239829  3.551340  \n3         -0.526262       -2.239829  5.055221  \n4          0.070492        0.647569  4.976069  ",
      "text/html": "<div>\n<style scoped>\n    .dataframe tbody tr th:only-of-type {\n        vertical-align: middle;\n    }\n\n    .dataframe tbody tr th {\n        vertical-align: top;\n    }\n\n    .dataframe thead th {\n        text-align: right;\n    }\n</style>\n<table border=\"1\" class=\"dataframe\">\n  <thead>\n    <tr style=\"text-align: right;\">\n      <th></th>\n      <th>Cement</th>\n      <th>Blast Furnace Slag</th>\n      <th>Fly Ash</th>\n      <th>Water</th>\n      <th>Superplasticizer</th>\n      <th>Coarse Aggregate</th>\n      <th>Fine Aggregate</th>\n      <th>Age</th>\n    </tr>\n  </thead>\n  <tbody>\n    <tr>\n      <th>0</th>\n      <td>2.476712</td>\n      <td>-0.856472</td>\n      <td>-0.846733</td>\n      <td>-0.916319</td>\n      <td>-0.620147</td>\n      <td>0.862735</td>\n      <td>-1.217079</td>\n      <td>-0.279597</td>\n    </tr>\n    <tr>\n      <th>1</th>\n      <td>2.476712</td>\n      <td>-0.856472</td>\n      <td>-0.846733</td>\n      <td>-0.916319</td>\n      <td>-0.620147</td>\n      <td>1.055651</td>\n      <td>-1.217079</td>\n      <td>-0.279597</td>\n    </tr>\n    <tr>\n      <th>2</th>\n      <td>0.491187</td>\n      <td>0.795140</td>\n      <td>-0.846733</td>\n      <td>2.174405</td>\n      <td>-1.038638</td>\n      <td>-0.526262</td>\n      <td>-2.239829</td>\n      <td>3.551340</td>\n    </tr>\n    <tr>\n      <th>3</th>\n      <td>0.491187</td>\n      <td>0.795140</td>\n      <td>-0.846733</td>\n      <td>2.174405</td>\n      <td>-1.038638</td>\n      <td>-0.526262</td>\n      <td>-2.239829</td>\n      <td>5.055221</td>\n    </tr>\n    <tr>\n      <th>4</th>\n      <td>-0.790075</td>\n      <td>0.678079</td>\n      <td>-0.846733</td>\n      <td>0.488555</td>\n      <td>-1.038638</td>\n      <td>0.070492</td>\n      <td>0.647569</td>\n      <td>4.976069</td>\n    </tr>\n  </tbody>\n</table>\n</div>"
     },
     "execution_count": 10,
     "metadata": {},
     "output_type": "execute_result"
    }
   ],
   "source": [
    "predictors_norm = (predictors - predictors.mean()) / predictors.std()\n",
    "predictors_norm.head()"
   ],
   "execution_count": 10
  },
  {
   "cell_type": "markdown",
   "id": "fdb24bf1-610f-4d16-99da-9aec9798b3e1",
   "metadata": {},
   "outputs": [],
   "source": [
    "Let's save the number of predictors to *n_cols* since we will need this number when building our network.\n"
   ]
  },
  {
   "cell_type": "code",
   "id": "72c21bc6-ee8c-4d1e-9a8c-700d7f7a648a",
   "metadata": {
    "ExecuteTime": {
     "end_time": "2023-12-16T08:29:41.617492900Z",
     "start_time": "2023-12-16T08:29:41.601871300Z"
    }
   },
   "outputs": [],
   "source": [
    "n_cols = predictors_norm.shape[1] # number of predictors"
   ],
   "execution_count": 11
  },
  {
   "cell_type": "markdown",
   "id": "586f1914-04bc-4c2c-af43-63178902897e",
   "metadata": {},
   "outputs": [],
   "source": [
    "## Import Keras\n"
   ]
  },
  {
   "cell_type": "markdown",
   "id": "0a777da9-1254-460c-a040-62cd694dba49",
   "metadata": {},
   "outputs": [],
   "source": [
    "Keras normally runs on top of a low-level library such as TensorFlow. This means that to be able to use the Keras library, you will have to install TensorFlow first and when you import the Keras library, it will be explicitly displayed what backend was used to install the Keras library. In CC Labs, we used TensorFlow as the backend to install Keras, so it should clearly print that when we import Keras.\n"
   ]
  },
  {
   "cell_type": "markdown",
   "id": "fd147cc8-2e36-4bd6-a3a2-c4c9b9ed0c98",
   "metadata": {},
   "outputs": [],
   "source": [
    "#### Let's go ahead and import the Keras library\n"
   ]
  },
  {
   "cell_type": "code",
   "id": "8dc60b83-f197-4a3e-a3bf-97843f6236c8",
   "metadata": {
    "ExecuteTime": {
     "end_time": "2023-12-16T08:30:42.219486400Z",
     "start_time": "2023-12-16T08:30:36.822436600Z"
    }
   },
   "outputs": [
    {
     "name": "stdout",
     "output_type": "stream",
     "text": [
      "WARNING:tensorflow:From C:\\Users\\prate\\AppData\\Local\\Programs\\Python\\Python310\\lib\\site-packages\\keras\\src\\losses.py:2976: The name tf.losses.sparse_softmax_cross_entropy is deprecated. Please use tf.compat.v1.losses.sparse_softmax_cross_entropy instead.\n",
      "\n"
     ]
    }
   ],
   "source": [
    "import keras"
   ],
   "execution_count": 12
  },
  {
   "cell_type": "markdown",
   "id": "dd5fb0cb-497f-48f8-b150-f272bc2fac4a",
   "metadata": {},
   "outputs": [],
   "source": [
    "As you can see, the TensorFlow backend was used to install the Keras library.\n"
   ]
  },
  {
   "cell_type": "markdown",
   "id": "33ae3534-8421-48ef-97ae-5bd58dbce395",
   "metadata": {},
   "outputs": [],
   "source": [
    "Let's import the rest of the packages from the Keras library that we will need to build our regressoin model.\n"
   ]
  },
  {
   "cell_type": "code",
   "id": "d57702ef-54f5-4485-a7b7-104f7c975f57",
   "metadata": {
    "ExecuteTime": {
     "end_time": "2023-12-16T08:30:59.986692Z",
     "start_time": "2023-12-16T08:30:59.971053400Z"
    }
   },
   "outputs": [],
   "source": [
    "from keras.models import Sequential\n",
    "from keras.layers import Dense"
   ],
   "execution_count": 13
  },
  {
   "cell_type": "markdown",
   "id": "f3169c0c-1f49-4ee4-ac0e-36d038a6690c",
   "metadata": {},
   "outputs": [],
   "source": [
    "<a id='item33'></a>\n"
   ]
  },
  {
   "cell_type": "markdown",
   "id": "a49721c9-1ae0-43e1-80bb-7d87e21cb97a",
   "metadata": {},
   "outputs": [],
   "source": [
    "## Build a Neural Network\n"
   ]
  },
  {
   "cell_type": "markdown",
   "id": "7f181e29-ad60-4a2a-8581-6f5c9e935d37",
   "metadata": {},
   "outputs": [],
   "source": [
    "Let's define a function that defines our regression model for us so that we can conveniently call it to create our model.\n"
   ]
  },
  {
   "cell_type": "code",
   "id": "5e70c37c-ad25-4b70-b056-f021ccba6177",
   "metadata": {
    "ExecuteTime": {
     "end_time": "2023-12-16T08:31:04.664532200Z",
     "start_time": "2023-12-16T08:31:04.653133900Z"
    }
   },
   "outputs": [],
   "source": [
    "# define regression model\n",
    "def regression_model():\n",
    "    # create model\n",
    "    model = Sequential()\n",
    "    model.add(Dense(50, activation='relu', input_shape=(n_cols,)))\n",
    "    model.add(Dense(50, activation='relu'))\n",
    "    model.add(Dense(1))\n",
    "    \n",
    "    # compile model\n",
    "    model.compile(optimizer='adam', loss='mean_squared_error')\n",
    "    return model"
   ],
   "execution_count": 14
  },
  {
   "cell_type": "markdown",
   "id": "78496132-59ef-495f-b062-cbf6ef3cbc72",
   "metadata": {},
   "outputs": [],
   "source": [
    "The above function create a model that has two hidden layers, each of 50 hidden units.\n"
   ]
  },
  {
   "cell_type": "markdown",
   "id": "5961862e-19ff-4fd4-81a9-dfcce6cc9f8e",
   "metadata": {},
   "outputs": [],
   "source": [
    "## Train and Test the Network\n"
   ]
  },
  {
   "cell_type": "markdown",
   "id": "9fd7a324-6b75-4689-aaa2-4a30ba85721d",
   "metadata": {},
   "outputs": [],
   "source": [
    "Let's call the function now to create our model.\n"
   ]
  },
  {
   "cell_type": "code",
   "id": "d02d1ac4-d56b-4879-ab94-9c156f690bbf",
   "metadata": {
    "ExecuteTime": {
     "end_time": "2023-12-16T08:31:25.568832500Z",
     "start_time": "2023-12-16T08:31:25.303237300Z"
    }
   },
   "outputs": [
    {
     "name": "stdout",
     "output_type": "stream",
     "text": [
      "WARNING:tensorflow:From C:\\Users\\prate\\AppData\\Local\\Programs\\Python\\Python310\\lib\\site-packages\\keras\\src\\backend.py:873: The name tf.get_default_graph is deprecated. Please use tf.compat.v1.get_default_graph instead.\n",
      "\n",
      "WARNING:tensorflow:From C:\\Users\\prate\\AppData\\Local\\Programs\\Python\\Python310\\lib\\site-packages\\keras\\src\\optimizers\\__init__.py:309: The name tf.train.Optimizer is deprecated. Please use tf.compat.v1.train.Optimizer instead.\n",
      "\n"
     ]
    }
   ],
   "source": [
    "# build the model\n",
    "model = regression_model()"
   ],
   "execution_count": 15
  },
  {
   "cell_type": "markdown",
   "id": "5dcdc296-a32e-440f-afab-baa8d033f074",
   "metadata": {},
   "outputs": [],
   "source": [
    "Next, we will train and test the model at the same time using the *fit* method. We will leave out 30% of the data for validation and we will train the model for 100 epochs.\n"
   ]
  },
  {
   "cell_type": "code",
   "id": "7ebe5f26-9a52-4506-a777-b651608e3840",
   "metadata": {
    "ExecuteTime": {
     "end_time": "2023-12-16T08:31:39.705673200Z",
     "start_time": "2023-12-16T08:31:32.364471Z"
    }
   },
   "outputs": [
    {
     "name": "stdout",
     "output_type": "stream",
     "text": [
      "Epoch 1/100\n",
      "WARNING:tensorflow:From C:\\Users\\prate\\AppData\\Local\\Programs\\Python\\Python310\\lib\\site-packages\\keras\\src\\utils\\tf_utils.py:492: The name tf.ragged.RaggedTensorValue is deprecated. Please use tf.compat.v1.ragged.RaggedTensorValue instead.\n",
      "\n",
      "23/23 - 1s - loss: 1624.6921 - val_loss: 1103.3470 - 973ms/epoch - 42ms/step\n",
      "Epoch 2/100\n",
      "23/23 - 0s - loss: 1467.5248 - val_loss: 954.1415 - 94ms/epoch - 4ms/step\n",
      "Epoch 3/100\n",
      "23/23 - 0s - loss: 1228.9038 - val_loss: 740.4869 - 62ms/epoch - 3ms/step\n",
      "Epoch 4/100\n",
      "23/23 - 0s - loss: 899.3317 - val_loss: 496.1782 - 62ms/epoch - 3ms/step\n",
      "Epoch 5/100\n",
      "23/23 - 0s - loss: 551.1420 - val_loss: 297.4335 - 56ms/epoch - 2ms/step\n",
      "Epoch 6/100\n",
      "23/23 - 0s - loss: 325.7021 - val_loss: 203.2964 - 62ms/epoch - 3ms/step\n",
      "Epoch 7/100\n",
      "23/23 - 0s - loss: 250.2195 - val_loss: 177.7055 - 62ms/epoch - 3ms/step\n",
      "Epoch 8/100\n",
      "23/23 - 0s - loss: 230.2735 - val_loss: 170.5194 - 79ms/epoch - 3ms/step\n",
      "Epoch 9/100\n",
      "23/23 - 0s - loss: 217.2804 - val_loss: 169.4348 - 63ms/epoch - 3ms/step\n",
      "Epoch 10/100\n",
      "23/23 - 0s - loss: 206.7456 - val_loss: 166.9005 - 62ms/epoch - 3ms/step\n",
      "Epoch 11/100\n",
      "23/23 - 0s - loss: 198.4717 - val_loss: 167.0679 - 62ms/epoch - 3ms/step\n",
      "Epoch 12/100\n",
      "23/23 - 0s - loss: 192.1404 - val_loss: 166.7841 - 63ms/epoch - 3ms/step\n",
      "Epoch 13/100\n",
      "23/23 - 0s - loss: 186.6805 - val_loss: 165.8311 - 62ms/epoch - 3ms/step\n",
      "Epoch 14/100\n",
      "23/23 - 0s - loss: 180.9110 - val_loss: 167.5971 - 62ms/epoch - 3ms/step\n",
      "Epoch 15/100\n",
      "23/23 - 0s - loss: 176.3978 - val_loss: 166.9070 - 62ms/epoch - 3ms/step\n",
      "Epoch 16/100\n",
      "23/23 - 0s - loss: 171.7267 - val_loss: 168.1536 - 62ms/epoch - 3ms/step\n",
      "Epoch 17/100\n",
      "23/23 - 0s - loss: 167.8117 - val_loss: 167.3685 - 67ms/epoch - 3ms/step\n",
      "Epoch 18/100\n",
      "23/23 - 0s - loss: 165.0381 - val_loss: 169.1126 - 47ms/epoch - 2ms/step\n",
      "Epoch 19/100\n",
      "23/23 - 0s - loss: 160.8344 - val_loss: 167.6904 - 62ms/epoch - 3ms/step\n",
      "Epoch 20/100\n",
      "23/23 - 0s - loss: 158.2435 - val_loss: 167.3492 - 62ms/epoch - 3ms/step\n",
      "Epoch 21/100\n",
      "23/23 - 0s - loss: 155.6037 - val_loss: 168.3154 - 63ms/epoch - 3ms/step\n",
      "Epoch 22/100\n",
      "23/23 - 0s - loss: 153.2642 - val_loss: 167.5984 - 62ms/epoch - 3ms/step\n",
      "Epoch 23/100\n",
      "23/23 - 0s - loss: 150.8474 - val_loss: 169.7217 - 63ms/epoch - 3ms/step\n",
      "Epoch 24/100\n",
      "23/23 - 0s - loss: 148.5354 - val_loss: 170.8910 - 71ms/epoch - 3ms/step\n",
      "Epoch 25/100\n",
      "23/23 - 0s - loss: 146.4973 - val_loss: 170.0621 - 62ms/epoch - 3ms/step\n",
      "Epoch 26/100\n",
      "23/23 - 0s - loss: 145.2431 - val_loss: 170.0700 - 62ms/epoch - 3ms/step\n",
      "Epoch 27/100\n",
      "23/23 - 0s - loss: 143.1978 - val_loss: 169.9592 - 62ms/epoch - 3ms/step\n",
      "Epoch 28/100\n",
      "23/23 - 0s - loss: 141.8441 - val_loss: 171.8283 - 47ms/epoch - 2ms/step\n",
      "Epoch 29/100\n",
      "23/23 - 0s - loss: 140.0079 - val_loss: 171.9384 - 63ms/epoch - 3ms/step\n",
      "Epoch 30/100\n",
      "23/23 - 0s - loss: 138.5313 - val_loss: 170.3265 - 62ms/epoch - 3ms/step\n",
      "Epoch 31/100\n",
      "23/23 - 0s - loss: 136.8799 - val_loss: 173.6943 - 62ms/epoch - 3ms/step\n",
      "Epoch 32/100\n",
      "23/23 - 0s - loss: 135.9754 - val_loss: 169.9474 - 47ms/epoch - 2ms/step\n",
      "Epoch 33/100\n",
      "23/23 - 0s - loss: 134.2865 - val_loss: 172.5607 - 69ms/epoch - 3ms/step\n",
      "Epoch 34/100\n",
      "23/23 - 0s - loss: 132.7929 - val_loss: 172.2744 - 62ms/epoch - 3ms/step\n",
      "Epoch 35/100\n",
      "23/23 - 0s - loss: 131.3623 - val_loss: 171.4595 - 62ms/epoch - 3ms/step\n",
      "Epoch 36/100\n",
      "23/23 - 0s - loss: 129.7291 - val_loss: 173.1281 - 62ms/epoch - 3ms/step\n",
      "Epoch 37/100\n",
      "23/23 - 0s - loss: 128.2164 - val_loss: 169.9805 - 62ms/epoch - 3ms/step\n",
      "Epoch 38/100\n",
      "23/23 - 0s - loss: 126.9941 - val_loss: 174.7619 - 78ms/epoch - 3ms/step\n",
      "Epoch 39/100\n",
      "23/23 - 0s - loss: 124.8606 - val_loss: 174.1460 - 78ms/epoch - 3ms/step\n",
      "Epoch 40/100\n",
      "23/23 - 0s - loss: 123.1926 - val_loss: 172.6373 - 70ms/epoch - 3ms/step\n",
      "Epoch 41/100\n",
      "23/23 - 0s - loss: 121.6854 - val_loss: 174.2480 - 47ms/epoch - 2ms/step\n",
      "Epoch 42/100\n",
      "23/23 - 0s - loss: 119.7093 - val_loss: 169.5607 - 47ms/epoch - 2ms/step\n",
      "Epoch 43/100\n",
      "23/23 - 0s - loss: 118.1822 - val_loss: 172.1707 - 62ms/epoch - 3ms/step\n",
      "Epoch 44/100\n",
      "23/23 - 0s - loss: 116.8054 - val_loss: 173.4832 - 62ms/epoch - 3ms/step\n",
      "Epoch 45/100\n",
      "23/23 - 0s - loss: 114.8156 - val_loss: 173.8080 - 62ms/epoch - 3ms/step\n",
      "Epoch 46/100\n",
      "23/23 - 0s - loss: 112.3228 - val_loss: 167.8135 - 62ms/epoch - 3ms/step\n",
      "Epoch 47/100\n",
      "23/23 - 0s - loss: 111.1272 - val_loss: 168.4115 - 78ms/epoch - 3ms/step\n",
      "Epoch 48/100\n",
      "23/23 - 0s - loss: 108.6460 - val_loss: 169.7926 - 78ms/epoch - 3ms/step\n",
      "Epoch 49/100\n",
      "23/23 - 0s - loss: 106.7178 - val_loss: 169.2162 - 62ms/epoch - 3ms/step\n",
      "Epoch 50/100\n",
      "23/23 - 0s - loss: 104.1771 - val_loss: 170.0885 - 62ms/epoch - 3ms/step\n",
      "Epoch 51/100\n",
      "23/23 - 0s - loss: 101.7532 - val_loss: 167.0347 - 62ms/epoch - 3ms/step\n",
      "Epoch 52/100\n",
      "23/23 - 0s - loss: 99.6819 - val_loss: 165.3720 - 62ms/epoch - 3ms/step\n",
      "Epoch 53/100\n",
      "23/23 - 0s - loss: 97.7045 - val_loss: 168.0122 - 62ms/epoch - 3ms/step\n",
      "Epoch 54/100\n",
      "23/23 - 0s - loss: 94.3321 - val_loss: 164.5430 - 63ms/epoch - 3ms/step\n",
      "Epoch 55/100\n",
      "23/23 - 0s - loss: 92.0360 - val_loss: 166.0708 - 62ms/epoch - 3ms/step\n",
      "Epoch 56/100\n",
      "23/23 - 0s - loss: 89.4071 - val_loss: 167.0616 - 67ms/epoch - 3ms/step\n",
      "Epoch 57/100\n",
      "23/23 - 0s - loss: 87.7807 - val_loss: 162.5766 - 47ms/epoch - 2ms/step\n",
      "Epoch 58/100\n",
      "23/23 - 0s - loss: 83.9860 - val_loss: 160.6894 - 62ms/epoch - 3ms/step\n",
      "Epoch 59/100\n",
      "23/23 - 0s - loss: 82.0806 - val_loss: 165.2464 - 62ms/epoch - 3ms/step\n",
      "Epoch 60/100\n",
      "23/23 - 0s - loss: 79.1800 - val_loss: 157.3749 - 81ms/epoch - 4ms/step\n",
      "Epoch 61/100\n",
      "23/23 - 0s - loss: 76.4554 - val_loss: 156.7707 - 62ms/epoch - 3ms/step\n",
      "Epoch 62/100\n",
      "23/23 - 0s - loss: 73.7090 - val_loss: 159.8715 - 62ms/epoch - 3ms/step\n",
      "Epoch 63/100\n",
      "23/23 - 0s - loss: 71.9220 - val_loss: 151.2356 - 62ms/epoch - 3ms/step\n",
      "Epoch 64/100\n",
      "23/23 - 0s - loss: 69.3410 - val_loss: 148.2792 - 62ms/epoch - 3ms/step\n",
      "Epoch 65/100\n",
      "23/23 - 0s - loss: 67.2604 - val_loss: 159.8467 - 47ms/epoch - 2ms/step\n",
      "Epoch 66/100\n",
      "23/23 - 0s - loss: 65.5750 - val_loss: 140.6326 - 94ms/epoch - 4ms/step\n",
      "Epoch 67/100\n",
      "23/23 - 0s - loss: 62.2847 - val_loss: 150.7719 - 62ms/epoch - 3ms/step\n",
      "Epoch 68/100\n",
      "23/23 - 0s - loss: 60.0798 - val_loss: 147.3795 - 47ms/epoch - 2ms/step\n",
      "Epoch 69/100\n",
      "23/23 - 0s - loss: 58.4779 - val_loss: 153.3136 - 62ms/epoch - 3ms/step\n",
      "Epoch 70/100\n",
      "23/23 - 0s - loss: 56.4827 - val_loss: 141.7932 - 62ms/epoch - 3ms/step\n",
      "Epoch 71/100\n",
      "23/23 - 0s - loss: 55.3175 - val_loss: 140.0434 - 62ms/epoch - 3ms/step\n",
      "Epoch 72/100\n",
      "23/23 - 0s - loss: 54.2918 - val_loss: 149.2963 - 62ms/epoch - 3ms/step\n",
      "Epoch 73/100\n",
      "23/23 - 0s - loss: 52.4297 - val_loss: 149.3304 - 55ms/epoch - 2ms/step\n",
      "Epoch 74/100\n",
      "23/23 - 0s - loss: 51.3659 - val_loss: 143.4626 - 62ms/epoch - 3ms/step\n",
      "Epoch 75/100\n",
      "23/23 - 0s - loss: 49.8091 - val_loss: 139.5321 - 47ms/epoch - 2ms/step\n",
      "Epoch 76/100\n",
      "23/23 - 0s - loss: 48.8647 - val_loss: 143.2940 - 47ms/epoch - 2ms/step\n",
      "Epoch 77/100\n",
      "23/23 - 0s - loss: 46.9624 - val_loss: 142.1537 - 62ms/epoch - 3ms/step\n",
      "Epoch 78/100\n",
      "23/23 - 0s - loss: 46.0329 - val_loss: 147.8943 - 62ms/epoch - 3ms/step\n",
      "Epoch 79/100\n",
      "23/23 - 0s - loss: 45.0205 - val_loss: 139.3582 - 47ms/epoch - 2ms/step\n",
      "Epoch 80/100\n",
      "23/23 - 0s - loss: 44.0840 - val_loss: 138.1894 - 62ms/epoch - 3ms/step\n",
      "Epoch 81/100\n",
      "23/23 - 0s - loss: 43.4349 - val_loss: 143.8763 - 72ms/epoch - 3ms/step\n",
      "Epoch 82/100\n",
      "23/23 - 0s - loss: 42.8850 - val_loss: 134.9739 - 47ms/epoch - 2ms/step\n",
      "Epoch 83/100\n",
      "23/23 - 0s - loss: 43.2677 - val_loss: 123.9743 - 62ms/epoch - 3ms/step\n",
      "Epoch 84/100\n",
      "23/23 - 0s - loss: 42.5226 - val_loss: 126.0403 - 62ms/epoch - 3ms/step\n",
      "Epoch 85/100\n",
      "23/23 - 0s - loss: 41.0742 - val_loss: 143.7121 - 62ms/epoch - 3ms/step\n",
      "Epoch 86/100\n",
      "23/23 - 0s - loss: 40.1539 - val_loss: 131.2678 - 62ms/epoch - 3ms/step\n",
      "Epoch 87/100\n",
      "23/23 - 0s - loss: 40.4734 - val_loss: 135.1690 - 62ms/epoch - 3ms/step\n",
      "Epoch 88/100\n",
      "23/23 - 0s - loss: 39.6475 - val_loss: 133.3599 - 47ms/epoch - 2ms/step\n",
      "Epoch 89/100\n",
      "23/23 - 0s - loss: 38.3976 - val_loss: 150.6515 - 62ms/epoch - 3ms/step\n",
      "Epoch 90/100\n",
      "23/23 - 0s - loss: 38.4768 - val_loss: 137.4482 - 69ms/epoch - 3ms/step\n",
      "Epoch 91/100\n",
      "23/23 - 0s - loss: 38.0687 - val_loss: 132.4078 - 63ms/epoch - 3ms/step\n",
      "Epoch 92/100\n",
      "23/23 - 0s - loss: 36.7842 - val_loss: 145.9032 - 47ms/epoch - 2ms/step\n",
      "Epoch 93/100\n",
      "23/23 - 0s - loss: 37.3595 - val_loss: 142.7991 - 47ms/epoch - 2ms/step\n",
      "Epoch 94/100\n",
      "23/23 - 0s - loss: 36.6738 - val_loss: 140.5725 - 63ms/epoch - 3ms/step\n",
      "Epoch 95/100\n",
      "23/23 - 0s - loss: 36.2138 - val_loss: 134.8690 - 62ms/epoch - 3ms/step\n",
      "Epoch 96/100\n",
      "23/23 - 0s - loss: 35.8995 - val_loss: 142.2466 - 63ms/epoch - 3ms/step\n",
      "Epoch 97/100\n",
      "23/23 - 0s - loss: 35.3531 - val_loss: 148.0578 - 62ms/epoch - 3ms/step\n",
      "Epoch 98/100\n",
      "23/23 - 0s - loss: 34.7125 - val_loss: 141.3717 - 78ms/epoch - 3ms/step\n",
      "Epoch 99/100\n",
      "23/23 - 0s - loss: 34.3610 - val_loss: 139.2564 - 58ms/epoch - 3ms/step\n",
      "Epoch 100/100\n",
      "23/23 - 0s - loss: 34.0083 - val_loss: 143.3859 - 47ms/epoch - 2ms/step\n"
     ]
    },
    {
     "data": {
      "text/plain": "<keras.src.callbacks.History at 0x1de503ab5b0>"
     },
     "execution_count": 16,
     "metadata": {},
     "output_type": "execute_result"
    }
   ],
   "source": [
    "# fit the model\n",
    "model.fit(predictors_norm, target, validation_split=0.3, epochs=100, verbose=2)"
   ],
   "execution_count": 16
  },
  {
   "cell_type": "markdown",
   "id": "3d5114dd-f11c-4ca3-9b3a-ea440f164626",
   "metadata": {},
   "outputs": [],
   "source": [
    "<strong>You can refer to this [link](https://keras.io/models/sequential/?utm_medium=Exinfluencer&utm_source=Exinfluencer&utm_content=000026UJ&utm_term=10006555&utm_id=NA-SkillsNetwork-Channel-SkillsNetworkCoursesIBMDeveloperSkillsNetworkDL0101ENSkillsNetwork945-2022-01-01) to learn about other functions that you can use for prediction or evaluation.</strong>\n"
   ]
  },
  {
   "cell_type": "markdown",
   "id": "dbeb9675-b233-4361-9c87-256854235211",
   "metadata": {},
   "outputs": [],
   "source": [
    "Feel free to vary the following and note what impact each change has on the model's performance:\n",
    "\n",
    "1. Increase or decreate number of neurons in hidden layers\n",
    "2. Add more hidden layers\n",
    "3. Increase number of epochs\n"
   ]
  },
  {
   "cell_type": "code",
   "execution_count": null,
   "outputs": [],
   "source": [],
   "metadata": {
    "collapsed": false
   }
  }
 ],
 "metadata": {
  "kernelspec": {
   "name": "python3",
   "language": "python",
   "display_name": "Python 3 (ipykernel)"
  },
  "language_info": {
   "name": ""
  }
 },
 "nbformat": 4,
 "nbformat_minor": 4
}
