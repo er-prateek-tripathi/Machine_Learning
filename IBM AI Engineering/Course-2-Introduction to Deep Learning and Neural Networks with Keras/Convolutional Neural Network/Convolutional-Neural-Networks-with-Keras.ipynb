{
 "cells": [
  {
   "cell_type": "markdown",
   "id": "ec8bacf7-7929-4c25-a072-57078a9781a6",
   "metadata": {},
   "outputs": [],
   "source": [
    "<h1 align=center><font size = 5>Convolutional Neural Networks with Keras</font></h1>\n"
   ]
  },
  {
   "cell_type": "markdown",
   "id": "076c4e44-6f8c-4e98-b201-27e8cc35427c",
   "metadata": {},
   "outputs": [],
   "source": [
    "In this notebook, we will learn how to use the Keras library to build convolutional neural networks. We will also use the popular MNIST dataset and we will compare our results to using a conventional neural network.\n"
   ]
  },
  {
   "cell_type": "markdown",
   "id": "c0af36d5-c39c-4db1-9abf-e6ae24b6d429",
   "metadata": {},
   "outputs": [],
   "source": [
    "<h2>Convolutional Neural Networks with Keras</h2>\n",
    "\n",
    "<h3>Objective for this Notebook<h3>    \n",
    "<h5> 1. How to use the Keras library to build convolutional neural networks.</h5>\n",
    "<h5> 2. Convolutional Neural Network with One Convolutional and Pooling Layers.</h5>\n",
    "<h5> 3. Convolutional Neural Network with Two Convolutional and Pooling Layers.</h5>\n",
    "\n"
   ]
  },
  {
   "cell_type": "markdown",
   "id": "a145693f-77be-4698-9305-933d6541bed9",
   "metadata": {},
   "outputs": [],
   "source": [
    "## Table of Contents\n",
    "\n",
    "<div class=\"alert alert-block alert-info\" style=\"margin-top: 20px\">\n",
    "\n",
    "<font size = 3>\n",
    "      \n",
    "1. <a href=\"#item41\">Import Keras and Packages</a>   \n",
    "2. <a href=\"#item42\">Convolutional Neural Network with One Convolutional and Pooling Layers</a>  \n",
    "3. <a href=\"#item43\">Convolutional Neural Network with Two Convolutional and Pooling Layers</a>  \n",
    "\n",
    "</font>\n",
    "</div>\n"
   ]
  },
  {
   "cell_type": "markdown",
   "id": "a9f28727-1324-4544-86e8-5dc44e72cc9e",
   "metadata": {},
   "outputs": [],
   "source": [
    "<a id='item41'></a>\n"
   ]
  },
  {
   "cell_type": "markdown",
   "id": "fd1a9901-1ad1-44e2-8d7c-6abbc1d4c5fa",
   "metadata": {},
   "outputs": [],
   "source": [
    "## Import Keras and Packages\n"
   ]
  },
  {
   "cell_type": "markdown",
   "id": "f4daa2c1-9de3-406c-8e5b-192095c7899a",
   "metadata": {},
   "outputs": [],
   "source": [
    "Let's start by importing the keras libraries and the packages that we would need to build a neural network.\n"
   ]
  },
  {
   "cell_type": "code",
   "id": "caf13643-fbbb-4805-bca7-e7058b620f23",
   "metadata": {
    "ExecuteTime": {
     "end_time": "2023-12-17T17:49:23.177579700Z",
     "start_time": "2023-12-17T17:49:05.925073700Z"
    }
   },
   "outputs": [
    {
     "name": "stdout",
     "output_type": "stream",
     "text": [
      "WARNING:tensorflow:From C:\\Users\\prate\\AppData\\Local\\Programs\\Python\\Python310\\lib\\site-packages\\keras\\src\\losses.py:2976: The name tf.losses.sparse_softmax_cross_entropy is deprecated. Please use tf.compat.v1.losses.sparse_softmax_cross_entropy instead.\n",
      "\n"
     ]
    }
   ],
   "source": [
    "import tensorflow\n",
    "import keras\n",
    "from keras.models import Sequential\n",
    "from keras.layers import Dense\n",
    "from keras.utils import to_categorical"
   ],
   "execution_count": 1
  },
  {
   "cell_type": "markdown",
   "id": "6dbe4f53-8aba-4207-a65b-cc86be6ab692",
   "metadata": {},
   "outputs": [],
   "source": [
    "When working with convolutional neural networks in particular, we will need additional packages.\n"
   ]
  },
  {
   "cell_type": "code",
   "id": "76703d9c-3ebb-4120-9aa5-64e7b56f6df9",
   "metadata": {
    "ExecuteTime": {
     "end_time": "2023-12-17T17:53:09.604287800Z",
     "start_time": "2023-12-17T17:53:09.588522900Z"
    }
   },
   "outputs": [],
   "source": [
    "from tensorflow.keras.layers import Conv2D # to add convolutional layers\n",
    "from tensorflow.keras.layers import MaxPooling2D # to add pooling layers\n",
    "from keras.layers import Flatten # to flatten data for fully connected layers"
   ],
   "execution_count": 4
  },
  {
   "cell_type": "markdown",
   "id": "28bec1ed-fae8-4523-9400-03f259b83118",
   "metadata": {},
   "outputs": [],
   "source": [
    "<a id='item42'></a>\n"
   ]
  },
  {
   "cell_type": "markdown",
   "id": "8c2c6d4d-4199-4ac3-86fd-83d0af27b76b",
   "metadata": {},
   "outputs": [],
   "source": [
    "## Convolutional Layer with One set of convolutional and pooling layers\n"
   ]
  },
  {
   "cell_type": "code",
   "id": "0b926053-ed83-4419-9df6-bbafcfc7f2e2",
   "metadata": {
    "ExecuteTime": {
     "end_time": "2023-12-17T17:53:54.082772600Z",
     "start_time": "2023-12-17T17:53:53.547781900Z"
    }
   },
   "outputs": [],
   "source": [
    "# import data\n",
    "from keras.datasets import mnist\n",
    "\n",
    "# load data\n",
    "(X_train, y_train), (X_test, y_test) = mnist.load_data()\n",
    "\n",
    "# reshape to be [samples][pixels][width][height]\n",
    "X_train = X_train.reshape(X_train.shape[0], 28, 28, 1).astype('float32')\n",
    "X_test = X_test.reshape(X_test.shape[0], 28, 28, 1).astype('float32')"
   ],
   "execution_count": 5
  },
  {
   "cell_type": "markdown",
   "id": "75bfc804-4b7e-4ce6-b5e8-3ddab966108d",
   "metadata": {},
   "outputs": [],
   "source": [
    "Let's normalize the pixel values to be between 0 and 1\n"
   ]
  },
  {
   "cell_type": "code",
   "id": "8cd56d94-762f-4a2b-8116-6f04313c5228",
   "metadata": {
    "ExecuteTime": {
     "end_time": "2023-12-17T17:53:58.753353800Z",
     "start_time": "2023-12-17T17:53:58.607752500Z"
    }
   },
   "outputs": [],
   "source": [
    "X_train = X_train / 255 # normalize training data\n",
    "X_test = X_test / 255 # normalize test data"
   ],
   "execution_count": 6
  },
  {
   "cell_type": "markdown",
   "id": "6e10086d-2c0e-481e-b136-47ce17d7bd47",
   "metadata": {},
   "outputs": [],
   "source": [
    "Next, let's convert the target variable into binary categories\n"
   ]
  },
  {
   "cell_type": "code",
   "id": "3a368493-3d57-47f8-a735-7807ba675e3d",
   "metadata": {
    "ExecuteTime": {
     "end_time": "2023-12-17T17:54:02.564994600Z",
     "start_time": "2023-12-17T17:54:02.534174700Z"
    }
   },
   "outputs": [],
   "source": [
    "y_train = to_categorical(y_train)\n",
    "y_test = to_categorical(y_test)\n",
    "\n",
    "num_classes = y_test.shape[1] # number of categories"
   ],
   "execution_count": 7
  },
  {
   "cell_type": "markdown",
   "id": "31a494f7-8bb2-4971-a5b7-a8d17b391958",
   "metadata": {},
   "outputs": [],
   "source": [
    "Next, let's define a function that creates our model. Let's start with one set of convolutional and pooling layers.\n"
   ]
  },
  {
   "cell_type": "code",
   "id": "762b15ce-04b4-4b52-91f4-5531b095adc2",
   "metadata": {
    "ExecuteTime": {
     "end_time": "2023-12-17T17:54:06.038207300Z",
     "start_time": "2023-12-17T17:54:06.018616900Z"
    }
   },
   "outputs": [],
   "source": [
    "def convolutional_model():\n",
    "    \n",
    "    # create model\n",
    "    model = Sequential()\n",
    "    model.add(Conv2D(16, (5, 5), strides=(1, 1), activation='relu', input_shape=(28, 28, 1)))\n",
    "    model.add(MaxPooling2D(pool_size=(2, 2), strides=(2, 2)))\n",
    "    \n",
    "    model.add(Flatten())\n",
    "    model.add(Dense(100, activation='relu'))\n",
    "    model.add(Dense(num_classes, activation='softmax'))\n",
    "    \n",
    "    # compile model\n",
    "    model.compile(optimizer='adam', loss='categorical_crossentropy',  metrics=['accuracy'])\n",
    "    return model"
   ],
   "execution_count": 8
  },
  {
   "cell_type": "markdown",
   "id": "adcd9352-8259-49e2-ac90-810ed08838f4",
   "metadata": {},
   "outputs": [],
   "source": [
    "Finally, let's call the function to create the model, and then let's train it and evaluate it.\n"
   ]
  },
  {
   "cell_type": "code",
   "id": "7bc53a31-62d6-4bbc-b622-2c22b7e45c9f",
   "metadata": {
    "ExecuteTime": {
     "end_time": "2023-12-17T17:54:57.616803700Z",
     "start_time": "2023-12-17T17:54:11.587592100Z"
    }
   },
   "outputs": [
    {
     "name": "stdout",
     "output_type": "stream",
     "text": [
      "WARNING:tensorflow:From C:\\Users\\prate\\AppData\\Local\\Programs\\Python\\Python310\\lib\\site-packages\\keras\\src\\backend.py:873: The name tf.get_default_graph is deprecated. Please use tf.compat.v1.get_default_graph instead.\n",
      "\n",
      "WARNING:tensorflow:From C:\\Users\\prate\\AppData\\Local\\Programs\\Python\\Python310\\lib\\site-packages\\keras\\src\\layers\\pooling\\max_pooling2d.py:161: The name tf.nn.max_pool is deprecated. Please use tf.nn.max_pool2d instead.\n",
      "\n",
      "WARNING:tensorflow:From C:\\Users\\prate\\AppData\\Local\\Programs\\Python\\Python310\\lib\\site-packages\\keras\\src\\optimizers\\__init__.py:309: The name tf.train.Optimizer is deprecated. Please use tf.compat.v1.train.Optimizer instead.\n",
      "\n",
      "Epoch 1/10\n",
      "WARNING:tensorflow:From C:\\Users\\prate\\AppData\\Local\\Programs\\Python\\Python310\\lib\\site-packages\\keras\\src\\utils\\tf_utils.py:492: The name tf.ragged.RaggedTensorValue is deprecated. Please use tf.compat.v1.ragged.RaggedTensorValue instead.\n",
      "\n",
      "WARNING:tensorflow:From C:\\Users\\prate\\AppData\\Local\\Programs\\Python\\Python310\\lib\\site-packages\\keras\\src\\engine\\base_layer_utils.py:384: The name tf.executing_eagerly_outside_functions is deprecated. Please use tf.compat.v1.executing_eagerly_outside_functions instead.\n",
      "\n",
      "300/300 - 6s - loss: 0.2878 - accuracy: 0.9217 - val_loss: 0.0989 - val_accuracy: 0.9691 - 6s/epoch - 21ms/step\n",
      "Epoch 2/10\n",
      "300/300 - 5s - loss: 0.0836 - accuracy: 0.9755 - val_loss: 0.0594 - val_accuracy: 0.9803 - 5s/epoch - 16ms/step\n",
      "Epoch 3/10\n",
      "300/300 - 5s - loss: 0.0571 - accuracy: 0.9824 - val_loss: 0.0486 - val_accuracy: 0.9837 - 5s/epoch - 15ms/step\n",
      "Epoch 4/10\n",
      "300/300 - 4s - loss: 0.0449 - accuracy: 0.9861 - val_loss: 0.0435 - val_accuracy: 0.9855 - 4s/epoch - 14ms/step\n",
      "Epoch 5/10\n",
      "300/300 - 4s - loss: 0.0364 - accuracy: 0.9890 - val_loss: 0.0451 - val_accuracy: 0.9852 - 4s/epoch - 13ms/step\n",
      "Epoch 6/10\n",
      "300/300 - 4s - loss: 0.0300 - accuracy: 0.9908 - val_loss: 0.0415 - val_accuracy: 0.9873 - 4s/epoch - 13ms/step\n",
      "Epoch 7/10\n",
      "300/300 - 4s - loss: 0.0253 - accuracy: 0.9923 - val_loss: 0.0414 - val_accuracy: 0.9865 - 4s/epoch - 13ms/step\n",
      "Epoch 8/10\n",
      "300/300 - 4s - loss: 0.0217 - accuracy: 0.9930 - val_loss: 0.0359 - val_accuracy: 0.9870 - 4s/epoch - 13ms/step\n",
      "Epoch 9/10\n",
      "300/300 - 4s - loss: 0.0175 - accuracy: 0.9947 - val_loss: 0.0395 - val_accuracy: 0.9880 - 4s/epoch - 14ms/step\n",
      "Epoch 10/10\n",
      "300/300 - 4s - loss: 0.0156 - accuracy: 0.9955 - val_loss: 0.0374 - val_accuracy: 0.9884 - 4s/epoch - 13ms/step\n",
      "Accuracy: 0.9883999824523926 \n",
      " Error: 1.1600017547607422\n"
     ]
    }
   ],
   "source": [
    "# build the model\n",
    "model = convolutional_model()\n",
    "\n",
    "# fit the model\n",
    "model.fit(X_train, y_train, validation_data=(X_test, y_test), epochs=10, batch_size=200, verbose=2)\n",
    "\n",
    "# evaluate the model\n",
    "scores = model.evaluate(X_test, y_test, verbose=0)\n"
   ],
   "execution_count": 9
  },
  {
   "cell_type": "code",
   "execution_count": 10,
   "outputs": [
    {
     "name": "stdout",
     "output_type": "stream",
     "text": [
      "Accuracy: 0.9883999824523926 \n",
      " Error: 1.1600017547607422\n"
     ]
    }
   ],
   "source": [
    "print(\"Accuracy: {} \\n Error: {}\".format(scores[1], 100-scores[1]*100))"
   ],
   "metadata": {
    "collapsed": false,
    "ExecuteTime": {
     "end_time": "2023-12-17T17:55:15.710178Z",
     "start_time": "2023-12-17T17:55:15.663278700Z"
    }
   }
  },
  {
   "cell_type": "markdown",
   "id": "dacc665a-cf08-4b37-93e9-51b24a3c5f65",
   "metadata": {},
   "outputs": [],
   "source": [
    "## Convolutional Layer with two sets of convolutional and pooling layers\n"
   ]
  },
  {
   "cell_type": "markdown",
   "id": "89123c1f-18ba-402b-8d14-83ed04bac39a",
   "metadata": {},
   "outputs": [],
   "source": [
    "Let's redefine our convolutional model so that it has two convolutional and pooling layers instead of just one layer of each.\n"
   ]
  },
  {
   "cell_type": "code",
   "id": "e4b3fb97-94a5-421b-80c1-8c4fe4134eb2",
   "metadata": {
    "ExecuteTime": {
     "end_time": "2023-12-17T17:55:27.325213700Z",
     "start_time": "2023-12-17T17:55:27.293910200Z"
    }
   },
   "outputs": [],
   "source": [
    "def convolutional_model():\n",
    "    \n",
    "    # create model\n",
    "    model = Sequential()\n",
    "    model.add(Conv2D(16, (5, 5), activation='relu', input_shape=(28, 28, 1)))\n",
    "    model.add(MaxPooling2D(pool_size=(2, 2), strides=(2, 2)))\n",
    "    \n",
    "    model.add(Conv2D(8, (2, 2), activation='relu'))\n",
    "    model.add(MaxPooling2D(pool_size=(2, 2), strides=(2, 2)))\n",
    "    \n",
    "    model.add(Flatten())\n",
    "    model.add(Dense(100, activation='relu'))\n",
    "    model.add(Dense(num_classes, activation='softmax'))\n",
    "    \n",
    "    # Compile model\n",
    "    model.compile(optimizer='adam', loss='categorical_crossentropy',  metrics=['accuracy'])\n",
    "    return model"
   ],
   "execution_count": 11
  },
  {
   "cell_type": "markdown",
   "id": "90e1050d-e6b1-4a7e-a028-273b119dcc68",
   "metadata": {},
   "outputs": [],
   "source": [
    "Now, let's call the function to create our new convolutional neural network, and then let's train it and evaluate it.\n"
   ]
  },
  {
   "cell_type": "code",
   "id": "1c9020f2-a385-4ba5-9923-7fa42be5dd32",
   "metadata": {
    "ExecuteTime": {
     "end_time": "2023-12-17T17:56:29.816599400Z",
     "start_time": "2023-12-17T17:55:47.427763300Z"
    }
   },
   "outputs": [
    {
     "name": "stdout",
     "output_type": "stream",
     "text": [
      "Epoch 1/10\n",
      "300/300 - 5s - loss: 0.4888 - accuracy: 0.8564 - val_loss: 0.1315 - val_accuracy: 0.9618 - 5s/epoch - 17ms/step\n",
      "Epoch 2/10\n",
      "300/300 - 4s - loss: 0.1162 - accuracy: 0.9651 - val_loss: 0.0831 - val_accuracy: 0.9744 - 4s/epoch - 13ms/step\n",
      "Epoch 3/10\n",
      "300/300 - 4s - loss: 0.0875 - accuracy: 0.9743 - val_loss: 0.0641 - val_accuracy: 0.9789 - 4s/epoch - 12ms/step\n",
      "Epoch 4/10\n",
      "300/300 - 4s - loss: 0.0724 - accuracy: 0.9777 - val_loss: 0.0599 - val_accuracy: 0.9791 - 4s/epoch - 13ms/step\n",
      "Epoch 5/10\n",
      "300/300 - 4s - loss: 0.0649 - accuracy: 0.9808 - val_loss: 0.0517 - val_accuracy: 0.9845 - 4s/epoch - 14ms/step\n",
      "Epoch 6/10\n",
      "300/300 - 4s - loss: 0.0580 - accuracy: 0.9826 - val_loss: 0.0521 - val_accuracy: 0.9841 - 4s/epoch - 13ms/step\n",
      "Epoch 7/10\n",
      "300/300 - 5s - loss: 0.0518 - accuracy: 0.9848 - val_loss: 0.0472 - val_accuracy: 0.9831 - 5s/epoch - 17ms/step\n",
      "Epoch 8/10\n",
      "300/300 - 4s - loss: 0.0465 - accuracy: 0.9861 - val_loss: 0.0471 - val_accuracy: 0.9847 - 4s/epoch - 13ms/step\n",
      "Epoch 9/10\n",
      "300/300 - 4s - loss: 0.0426 - accuracy: 0.9867 - val_loss: 0.0388 - val_accuracy: 0.9884 - 4s/epoch - 13ms/step\n",
      "Epoch 10/10\n",
      "300/300 - 4s - loss: 0.0396 - accuracy: 0.9881 - val_loss: 0.0381 - val_accuracy: 0.9872 - 4s/epoch - 12ms/step\n"
     ]
    }
   ],
   "source": [
    "# build the model\n",
    "model = convolutional_model()\n",
    "\n",
    "# fit the model\n",
    "model.fit(X_train, y_train, validation_data=(X_test, y_test), epochs=10, batch_size=200, verbose=2)\n",
    "\n",
    "# evaluate the model\n",
    "scores = model.evaluate(X_test, y_test, verbose=0)\n"
   ],
   "execution_count": 12
  },
  {
   "cell_type": "code",
   "execution_count": 13,
   "outputs": [
    {
     "name": "stdout",
     "output_type": "stream",
     "text": [
      "Accuracy: 0.9872000217437744 \n",
      " Error: 1.2799978256225586\n"
     ]
    }
   ],
   "source": [
    "print(\"Accuracy: {} \\n Error: {}\".format(scores[1], 100-scores[1]*100))"
   ],
   "metadata": {
    "collapsed": false,
    "ExecuteTime": {
     "end_time": "2023-12-17T17:56:46.458329200Z",
     "start_time": "2023-12-17T17:56:46.427008800Z"
    }
   }
  },
  {
   "cell_type": "code",
   "execution_count": null,
   "outputs": [],
   "source": [],
   "metadata": {
    "collapsed": false
   }
  }
 ],
 "metadata": {
  "kernelspec": {
   "name": "python3",
   "language": "python",
   "display_name": "Python 3 (ipykernel)"
  },
  "language_info": {
   "name": ""
  }
 },
 "nbformat": 4,
 "nbformat_minor": 4
}
