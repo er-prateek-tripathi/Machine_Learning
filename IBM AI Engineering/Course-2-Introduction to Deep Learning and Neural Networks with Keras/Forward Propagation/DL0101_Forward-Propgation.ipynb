{
 "cells": [
  {
   "cell_type": "markdown",
   "id": "96483133-a46c-4b13-ac2a-16a5e4743050",
   "metadata": {},
   "outputs": [],
   "source": [
    "\n",
    "<h1 align=center><font size = 5>Artificial Neural Networks - Forward Propagation</font></h1>\n"
   ]
  },
  {
   "cell_type": "markdown",
   "id": "339ac51a-dc87-445c-8bfb-6d3ef532a01a",
   "metadata": {},
   "outputs": [],
   "source": [
    "## Introduction\n"
   ]
  },
  {
   "cell_type": "markdown",
   "id": "66a81094-624b-4c49-9400-ca3c250f62d7",
   "metadata": {},
   "outputs": [],
   "source": [
    "In this lab, we will build a neural network from scratch and code how it performs predictions using forward propagation. Please note that all deep learning libraries have the entire training and prediction processes implemented, and so in practice you wouldn't really need to build a neural network from scratch. However, hopefully completing this lab will help you understand neural networks and how they work even better.\n"
   ]
  },
  {
   "cell_type": "markdown",
   "id": "7f5ce95a-e2ca-429b-98b4-0290723f4bc3",
   "metadata": {},
   "outputs": [],
   "source": [
    "<h2>Artificial Neural Networks - Forward Propagation</h2>\n",
    "\n",
    "<h3>Objective for this Notebook<h3>    \n",
    "<h5> 1. Initalize a Network</h5>\n",
    "<h5> 2. Compute Weighted Sum at Each Node. </h5>\n",
    "<h5> 3. Compute Node Activation </h5>\n",
    "<h5> 4. Access your <b>Flask</b> app via a webpage anywhere using a custom link. </h5>     \n",
    "\n"
   ]
  },
  {
   "cell_type": "markdown",
   "id": "942f85da-d368-491d-83f9-9a0b37e3e8da",
   "metadata": {},
   "outputs": [],
   "source": [
    "## Table of Contents\n",
    "\n",
    "<div class=\"alert alert-block alert-info\" style=\"margin-top: 20px\">\n",
    "\n",
    "<font size = 3>    \n",
    "\n",
    "1. <a href=\"#item11\">Recap</a>\n",
    "2. <a href=\"#item12\">Initalize a Network</a>  \n",
    "3. <a href=\"#item13\">Compute Weighted Sum at Each Node</a>  \n",
    "4. <a href=\"#item14\">Compute Node Activation</a>  \n",
    "5. <a href=\"#item15\">Forward Propagation</a>\n",
    "\n",
    "</font>\n",
    "    \n",
    "</div>\n"
   ]
  },
  {
   "cell_type": "markdown",
   "id": "9fb94ff4-e097-4697-8f8b-8f026ab135a2",
   "metadata": {},
   "outputs": [],
   "source": [
    "From the videos, let's recap how a neural network makes predictions through the forward propagation process. Here is a neural network that takes two inputs, has one hidden layer with two nodes, and an output layer with one node.\n"
   ]
  },
  {
   "cell_type": "markdown",
   "id": "f1bdbe36-5bfa-478f-887a-22a48fde3095",
   "metadata": {},
   "outputs": [],
   "source": [
    "<img src=\"http://cocl.us/neural_network_example\" alt=\"Neural Network Example\" width=\"600px\">\n"
   ]
  },
  {
   "cell_type": "markdown",
   "id": "43b4b416-6846-462e-928b-e75c499adbc5",
   "metadata": {},
   "outputs": [],
   "source": [
    "Let's start by randomly initializing the weights and the biases in the network. We have 6 weights and 3 biases, one for each node in the hidden layer as well as for each node in the output layer.\n"
   ]
  },
  {
   "cell_type": "code",
   "id": "09d7e8c7-e88e-4d21-99bd-e10c21e04605",
   "metadata": {
    "ExecuteTime": {
     "end_time": "2023-12-13T15:44:15.113609Z",
     "start_time": "2023-12-13T15:44:14.629344100Z"
    }
   },
   "outputs": [],
   "source": [
    "import numpy as np # import Numpy library to generate \n",
    "\n",
    "weights = np.around(np.random.uniform(size=6), decimals=2) # initialize the weights\n",
    "biases = np.around(np.random.uniform(size=3), decimals=2) # initialize the biases"
   ],
   "execution_count": 1
  },
  {
   "cell_type": "markdown",
   "id": "93ef8bd9-5134-4943-9745-e081068eb5f8",
   "metadata": {},
   "outputs": [],
   "source": [
    "Let's print the weights and biases for sanity check.\n"
   ]
  },
  {
   "cell_type": "code",
   "id": "d3eb6f29-2d70-4aee-9f80-d277fca546a3",
   "metadata": {
    "ExecuteTime": {
     "end_time": "2023-12-13T15:44:22.155069200Z",
     "start_time": "2023-12-13T15:44:22.123793800Z"
    }
   },
   "outputs": [
    {
     "name": "stdout",
     "output_type": "stream",
     "text": [
      "[0.31 0.41 0.19 0.21 0.67 0.19]\n",
      "[0.35 0.89 0.36]\n"
     ]
    }
   ],
   "source": [
    "print(weights)\n",
    "print(biases)"
   ],
   "execution_count": 2
  },
  {
   "cell_type": "markdown",
   "id": "86feba84-dba3-4101-8eb7-3ea51758b045",
   "metadata": {},
   "outputs": [],
   "source": [
    "Now that we have the weights and the biases defined for the network, let's compute the output for a given input, $x_1$ and $x_2$.\n"
   ]
  },
  {
   "cell_type": "code",
   "id": "c3c532e1-51f0-403b-9a9c-8f8436a51207",
   "metadata": {
    "ExecuteTime": {
     "end_time": "2023-12-13T15:44:47.172004300Z",
     "start_time": "2023-12-13T15:44:47.170956300Z"
    }
   },
   "outputs": [
    {
     "name": "stdout",
     "output_type": "stream",
     "text": [
      "x1 is 0.5 and x2 is 0.85\n"
     ]
    }
   ],
   "source": [
    "x_1 = 0.5 # input 1\n",
    "x_2 = 0.85 # input 2\n",
    "\n",
    "print('x1 is {} and x2 is {}'.format(x_1, x_2))"
   ],
   "execution_count": 3
  },
  {
   "cell_type": "markdown",
   "id": "6f84403d-a90b-4bbb-973e-5a35a265ec46",
   "metadata": {},
   "outputs": [],
   "source": [
    "Let's start by computing the wighted sum of the inputs, $z_{1, 1}$, at the first node of the hidden layer.\n"
   ]
  },
  {
   "cell_type": "code",
   "id": "3d14b5b0-b42b-4790-be60-10470085e840",
   "metadata": {
    "ExecuteTime": {
     "end_time": "2023-12-13T15:46:17.526554900Z",
     "start_time": "2023-12-13T15:46:17.510963100Z"
    }
   },
   "outputs": [
    {
     "name": "stdout",
     "output_type": "stream",
     "text": [
      "The weighted sum of the inputs at the first node in the hidden layer is 0.8534999999999999\n"
     ]
    }
   ],
   "source": [
    "z_11 = x_1 * weights[0] + x_2 * weights[1] + biases[0]\n",
    "\n",
    "print('The weighted sum of the inputs at the first node in the hidden layer is {}'.format(z_11))"
   ],
   "execution_count": 9
  },
  {
   "cell_type": "markdown",
   "id": "3cf51650-cc30-4cd2-b3f2-bfa9a8c270b6",
   "metadata": {},
   "outputs": [],
   "source": [
    "Next, let's compute the weighted sum of the inputs, $z_{1, 2}$, at the second node of the hidden layer. Assign the value to **z_12**.\n"
   ]
  },
  {
   "cell_type": "code",
   "id": "7efe5c5d-8845-4949-88a7-3abe01f27c60",
   "metadata": {
    "ExecuteTime": {
     "end_time": "2023-12-13T15:45:26.549617Z",
     "start_time": "2023-12-13T15:45:26.549617Z"
    }
   },
   "outputs": [],
   "source": [
    "z_12 = x_1 * weights[2] + x_2 * weights[3] + biases[1]\n"
   ],
   "execution_count": 5
  },
  {
   "cell_type": "markdown",
   "id": "cb57ba2e-11ea-4588-997d-1d380dd732d9",
   "metadata": {},
   "outputs": [],
   "source": [
    "Print the weighted sum.\n"
   ]
  },
  {
   "cell_type": "code",
   "id": "496f819f-2027-4c0a-9712-dfc375559e94",
   "metadata": {
    "ExecuteTime": {
     "end_time": "2023-12-13T15:45:30.246685200Z",
     "start_time": "2023-12-13T15:45:30.198573600Z"
    }
   },
   "outputs": [
    {
     "name": "stdout",
     "output_type": "stream",
     "text": [
      "The weighted sum of the inputs at the second node in the hidden layer is 1.1635\n"
     ]
    }
   ],
   "source": [
    "print('The weighted sum of the inputs at the second node in the hidden layer is {}'.format(np.around(z_12, decimals=4)))"
   ],
   "execution_count": 6
  },
  {
   "cell_type": "markdown",
   "id": "9786df27-de4f-4a21-9af7-93c353c4e52e",
   "metadata": {},
   "outputs": [],
   "source": [
    "Next, assuming a sigmoid activation function, let's compute the activation of the first node, $a_{1, 1}$, in the hidden layer.\n"
   ]
  },
  {
   "cell_type": "code",
   "id": "4210fdcc-2cb7-4698-a2ce-955f0e68f09a",
   "metadata": {
    "ExecuteTime": {
     "end_time": "2023-12-13T15:46:27.551790400Z",
     "start_time": "2023-12-13T15:46:27.520381200Z"
    }
   },
   "outputs": [
    {
     "name": "stdout",
     "output_type": "stream",
     "text": [
      "The activation of the first node in the hidden layer is 0.7013\n"
     ]
    }
   ],
   "source": [
    "a_11 = 1.0 / (1.0 + np.exp(-z_11))\n",
    "\n",
    "print('The activation of the first node in the hidden layer is {}'.format(np.around(a_11, decimals=4)))"
   ],
   "execution_count": 10
  },
  {
   "cell_type": "markdown",
   "id": "bc6d35d6-3c3c-4bc1-bf36-d4a7c2bb7365",
   "metadata": {},
   "outputs": [],
   "source": [
    "Let's also compute the activation of the second node, $a_{1, 2}$, in the hidden layer. Assign the value to **a_12**.\n"
   ]
  },
  {
   "cell_type": "code",
   "id": "497ba756-77d1-4aa1-a518-5bf6b0f14c10",
   "metadata": {
    "ExecuteTime": {
     "end_time": "2023-12-13T15:46:46.946887900Z",
     "start_time": "2023-12-13T15:46:46.915638100Z"
    }
   },
   "outputs": [],
   "source": [
    "a_12 = 1.0 / (1.0 + np.exp(-z_12))\n"
   ],
   "execution_count": 11
  },
  {
   "cell_type": "markdown",
   "id": "a687d039-b697-4c46-89e6-1f87231bbbff",
   "metadata": {},
   "outputs": [],
   "source": [
    "Print the activation of the second node.\n"
   ]
  },
  {
   "cell_type": "code",
   "id": "a530e15b-b640-4bbc-bf8e-e60b61c02a79",
   "metadata": {
    "ExecuteTime": {
     "end_time": "2023-12-13T15:46:53.177390300Z",
     "start_time": "2023-12-13T15:46:53.162325900Z"
    }
   },
   "outputs": [
    {
     "name": "stdout",
     "output_type": "stream",
     "text": [
      "The activation of the second node in the hidden layer is 0.762\n"
     ]
    }
   ],
   "source": [
    "print('The activation of the second node in the hidden layer is {}'.format(np.around(a_12, decimals=4)))"
   ],
   "execution_count": 12
  },
  {
   "cell_type": "markdown",
   "id": "dfb1dd52-833c-484e-b9f0-07a98cdd10df",
   "metadata": {},
   "outputs": [],
   "source": [
    "Now these activations will serve as the inputs to the output layer. So, let's compute the weighted sum of these inputs to the node in the output layer. Assign the value to **z_2**.\n"
   ]
  },
  {
   "cell_type": "code",
   "id": "8bca416c-994c-4468-bb09-d9adb452133c",
   "metadata": {
    "ExecuteTime": {
     "end_time": "2023-12-13T15:47:10.306540Z",
     "start_time": "2023-12-13T15:47:10.306540Z"
    }
   },
   "outputs": [],
   "source": [
    "z_2 = a_11 * weights[4] + a_12 * weights[5] + biases[2]\n"
   ],
   "execution_count": 13
  },
  {
   "cell_type": "markdown",
   "id": "c5c9a4ad-c80e-4710-9377-4ce1358e39bf",
   "metadata": {},
   "outputs": [],
   "source": [
    "Print the weighted sum of the inputs at the node in the output layer.\n"
   ]
  },
  {
   "cell_type": "code",
   "id": "715fea5f-939c-4c65-a015-8f6133170ca0",
   "metadata": {
    "ExecuteTime": {
     "end_time": "2023-12-13T15:47:22.453808200Z",
     "start_time": "2023-12-13T15:47:22.442563600Z"
    }
   },
   "outputs": [
    {
     "name": "stdout",
     "output_type": "stream",
     "text": [
      "The weighted sum of the inputs at the node in the output layer is 0.9746\n"
     ]
    }
   ],
   "source": [
    "print('The weighted sum of the inputs at the node in the output layer is {}'.format(np.around(z_2, decimals=4)))"
   ],
   "execution_count": 14
  },
  {
   "cell_type": "markdown",
   "id": "a0db3928-aec7-443e-8a30-a1e30637bf41",
   "metadata": {},
   "outputs": [],
   "source": [
    "Finally, let's compute the output of the network as the activation of the node in the output layer. Assign the value to **a_2**.\n"
   ]
  },
  {
   "cell_type": "code",
   "id": "34af44ca-69ff-43ff-87ba-66cba8a19239",
   "metadata": {
    "ExecuteTime": {
     "end_time": "2023-12-13T15:47:35.595422700Z",
     "start_time": "2023-12-13T15:47:35.564183700Z"
    }
   },
   "outputs": [],
   "source": [
    "a_2 = 1.0 / (1.0 + np.exp(-z_2))"
   ],
   "execution_count": 15
  },
  {
   "cell_type": "markdown",
   "id": "3032143b-2b81-4ccf-a557-f63dce2f6d28",
   "metadata": {},
   "outputs": [],
   "source": [
    "Print the activation of the node in the output layer which is equivalent to the prediction made by the network.\n"
   ]
  },
  {
   "cell_type": "code",
   "id": "6067cf62-4023-4c27-9d9e-49b6080ef414",
   "metadata": {
    "ExecuteTime": {
     "end_time": "2023-12-13T15:47:45.894686100Z",
     "start_time": "2023-12-13T15:47:45.879031100Z"
    }
   },
   "outputs": [
    {
     "name": "stdout",
     "output_type": "stream",
     "text": [
      "The output of the network for x1 = 0.5 and x2 = 0.85 is 0.726\n"
     ]
    }
   ],
   "source": [
    "print('The output of the network for x1 = 0.5 and x2 = 0.85 is {}'.format(np.around(a_2, decimals=4)))"
   ],
   "execution_count": 16
  },
  {
   "cell_type": "markdown",
   "id": "15ad0858-9a75-4649-aa11-410f84563db0",
   "metadata": {},
   "outputs": [],
   "source": [
    "<hr>\n"
   ]
  },
  {
   "cell_type": "markdown",
   "id": "6b36642a-07a7-4238-aaa5-89d4179b87f2",
   "metadata": {},
   "outputs": [],
   "source": [
    "Obviously, neural networks for real problems are composed of many hidden layers and many more nodes in each layer. So, we can't continue making predictions using this very inefficient approach of computing the weighted sum at each node and the activation of each node manually. \n"
   ]
  },
  {
   "cell_type": "markdown",
   "id": "fcbf9df2-ee5b-4bc4-ab08-0bf6b9e7308e",
   "metadata": {},
   "outputs": [],
   "source": [
    "In order to code an automatic way of making predictions, let's generalize our network. A general network would take $n$ inputs, would have many hidden layers, each hidden layer having $m$ nodes, and would have an output layer. Although the network is showing one hidden layer, but we will code the network to have many hidden layers. Similarly, although the network shows an output layer with one node, we will code the network to have more than one node in the output layer.\n"
   ]
  },
  {
   "cell_type": "markdown",
   "id": "3291a380-a134-495f-a8c9-2bb3ba95f95a",
   "metadata": {},
   "outputs": [],
   "source": [
    "## Initialize a Network\n"
   ]
  },
  {
   "cell_type": "markdown",
   "id": "acc9a1e9-115a-458b-b9cf-273df760e3e6",
   "metadata": {},
   "outputs": [],
   "source": [
    "Let's start by formally defining the structure of the network.\n"
   ]
  },
  {
   "cell_type": "code",
   "id": "6358c551-41c2-4664-85dd-a2c852b76a5f",
   "metadata": {
    "ExecuteTime": {
     "end_time": "2023-12-13T16:01:31.350081Z",
     "start_time": "2023-12-13T16:01:31.334315200Z"
    }
   },
   "outputs": [],
   "source": [
    "n = 2 # number of inputs\n",
    "num_hidden_layers = 2 # number of hidden layers\n",
    "m = [2, 2] # number of nodes in each hidden layer\n",
    "num_nodes_output = 1 # number of nodes in the output layer"
   ],
   "execution_count": 17
  },
  {
   "cell_type": "markdown",
   "id": "0dda4115-7479-4871-99d9-3931844a2679",
   "metadata": {},
   "outputs": [],
   "source": [
    "Now that we defined the structure of the network, let's go ahead and inititailize the weights and the biases in the network to random numbers. In order to be able to initialize the weights and the biases to random numbers, we will need to import the **Numpy** library.\n"
   ]
  },
  {
   "cell_type": "code",
   "id": "00bcb234-c0bc-4c13-8a48-3c5c278289b8",
   "metadata": {
    "ExecuteTime": {
     "end_time": "2023-12-13T16:01:43.677612100Z",
     "start_time": "2023-12-13T16:01:43.615091700Z"
    }
   },
   "outputs": [
    {
     "name": "stdout",
     "output_type": "stream",
     "text": [
      "{'layer_1': {'node_1': {'weights': array([0.94, 0.47]), 'bias': array([0.4])}, 'node_2': {'weights': array([0.47, 0.18]), 'bias': array([0.66])}}, 'layer_2': {'node_1': {'weights': array([0.74, 0.5 ]), 'bias': array([0.31])}, 'node_2': {'weights': array([0.9 , 0.03]), 'bias': array([0.65])}}, 'output': {'node_1': {'weights': array([0.4 , 0.68]), 'bias': array([0.96])}}}\n"
     ]
    }
   ],
   "source": [
    "import numpy as np # import the Numpy library\n",
    "\n",
    "num_nodes_previous = n # number of nodes in the previous layer\n",
    "\n",
    "network = {} # initialize network an empty dictionary\n",
    "\n",
    "# loop through each layer and randomly initialize the weights and biases associated with each node\n",
    "# notice how we are adding 1 to the number of hidden layers in order to include the output layer\n",
    "for layer in range(num_hidden_layers + 1): \n",
    "    \n",
    "    # determine name of layer\n",
    "    if layer == num_hidden_layers:\n",
    "        layer_name = 'output'\n",
    "        num_nodes = num_nodes_output\n",
    "    else:\n",
    "        layer_name = 'layer_{}'.format(layer + 1)\n",
    "        num_nodes = m[layer]\n",
    "    \n",
    "    # initialize weights and biases associated with each node in the current layer\n",
    "    network[layer_name] = {}\n",
    "    for node in range(num_nodes):\n",
    "        node_name = 'node_{}'.format(node+1)\n",
    "        network[layer_name][node_name] = {\n",
    "            'weights': np.around(np.random.uniform(size=num_nodes_previous), decimals=2),\n",
    "            'bias': np.around(np.random.uniform(size=1), decimals=2),\n",
    "        }\n",
    "    \n",
    "    num_nodes_previous = num_nodes\n",
    "    \n",
    "print(network) # print network"
   ],
   "execution_count": 18
  },
  {
   "cell_type": "markdown",
   "id": "63fc69e9-a378-4e02-bce6-c230161f8621",
   "metadata": {},
   "outputs": [],
   "source": [
    "Awesome! So now with the above code, we are able to initialize the weights and the biases pertaining to any network of any number of hidden layers and number of nodes in each layer. But let's put this code in a function so that we are able to repetitively execute all this code whenever we want to construct a neural network.\n"
   ]
  },
  {
   "cell_type": "code",
   "id": "1f0d66d3-eb91-4194-80b7-f5698097b8bd",
   "metadata": {
    "ExecuteTime": {
     "end_time": "2023-12-13T16:01:58.715772900Z",
     "start_time": "2023-12-13T16:01:58.684380300Z"
    }
   },
   "outputs": [],
   "source": [
    "def initialize_network(num_inputs, num_hidden_layers, num_nodes_hidden, num_nodes_output):\n",
    "    \n",
    "    num_nodes_previous = num_inputs # number of nodes in the previous layer\n",
    "\n",
    "    network = {}\n",
    "    \n",
    "    # loop through each layer and randomly initialize the weights and biases associated with each layer\n",
    "    for layer in range(num_hidden_layers + 1):\n",
    "        \n",
    "        if layer == num_hidden_layers:\n",
    "            layer_name = 'output' # name last layer in the network output\n",
    "            num_nodes = num_nodes_output\n",
    "        else:\n",
    "            layer_name = 'layer_{}'.format(layer + 1) # otherwise give the layer a number\n",
    "            num_nodes = num_nodes_hidden[layer] \n",
    "        \n",
    "        # initialize weights and bias for each node\n",
    "        network[layer_name] = {}\n",
    "        for node in range(num_nodes):\n",
    "            node_name = 'node_{}'.format(node+1)\n",
    "            network[layer_name][node_name] = {\n",
    "                'weights': np.around(np.random.uniform(size=num_nodes_previous), decimals=2),\n",
    "                'bias': np.around(np.random.uniform(size=1), decimals=2),\n",
    "            }\n",
    "    \n",
    "        num_nodes_previous = num_nodes\n",
    "\n",
    "    return network # return the network"
   ],
   "execution_count": 19
  },
  {
   "cell_type": "markdown",
   "id": "288fd5b2-2787-4989-b109-8cbf82b1cfce",
   "metadata": {},
   "outputs": [],
   "source": [
    "#### Use the *initialize_network* function to create a network that:\n",
    "\n",
    "1. takes 5 inputs\n",
    "2. has three hidden layers\n",
    "3. has 3 nodes in the first layer, 2 nodes in the second layer, and 3 nodes in the third layer\n",
    "4. has 1 node in the output layer\n",
    "\n",
    "Call the network **small_network**.\n"
   ]
  },
  {
   "cell_type": "code",
   "id": "89e5a28a-91d5-42c7-8cb6-313e110bdfdd",
   "metadata": {
    "ExecuteTime": {
     "end_time": "2023-12-13T16:02:18.960417500Z",
     "start_time": "2023-12-13T16:02:18.944763500Z"
    }
   },
   "outputs": [],
   "source": [
    "small_network = initialize_network(5, 3, [3, 2, 3], 1)"
   ],
   "execution_count": 20
  },
  {
   "cell_type": "markdown",
   "id": "babe5045-d284-41d4-90ad-af6825f67add",
   "metadata": {},
   "outputs": [],
   "source": [
    "## Compute Weighted Sum at Each Node\n"
   ]
  },
  {
   "cell_type": "markdown",
   "id": "80cdaf76-bda4-47ee-8605-3d9ec5d03968",
   "metadata": {},
   "outputs": [],
   "source": [
    "The weighted sum at each node is computed as the dot product of the inputs and the weights plus the bias. So let's create a function called *compute_weighted_sum* that does just that.\n"
   ]
  },
  {
   "cell_type": "code",
   "id": "39b79be5-79eb-44a0-ac86-8a10f07d57fc",
   "metadata": {
    "ExecuteTime": {
     "end_time": "2023-12-13T16:02:30.765660700Z",
     "start_time": "2023-12-13T16:02:30.750028600Z"
    }
   },
   "outputs": [],
   "source": [
    "def compute_weighted_sum(inputs, weights, bias):\n",
    "    return np.sum(inputs * weights) + bias"
   ],
   "execution_count": 21
  },
  {
   "cell_type": "markdown",
   "id": "be0a1a96-1f4a-4005-807e-6e113c976ae7",
   "metadata": {},
   "outputs": [],
   "source": [
    "Let's generate 5 inputs that we can feed to **small_network**.\n"
   ]
  },
  {
   "cell_type": "code",
   "id": "ea354be8-3a36-4c13-a653-649eea3b3192",
   "metadata": {
    "ExecuteTime": {
     "end_time": "2023-12-13T16:02:33.704379800Z",
     "start_time": "2023-12-13T16:02:33.672988800Z"
    }
   },
   "outputs": [
    {
     "name": "stdout",
     "output_type": "stream",
     "text": [
      "The inputs to the network are [0.15 0.74 0.26 0.53 0.01]\n"
     ]
    }
   ],
   "source": [
    "from random import seed\n",
    "import numpy as np\n",
    "\n",
    "np.random.seed(12)\n",
    "inputs = np.around(np.random.uniform(size=5), decimals=2)\n",
    "\n",
    "print('The inputs to the network are {}'.format(inputs))"
   ],
   "execution_count": 22
  },
  {
   "cell_type": "markdown",
   "id": "6f8be3a6-7b1e-4480-b3f2-c7c430785d23",
   "metadata": {},
   "outputs": [],
   "source": [
    "#### Use the *compute_weighted_sum* function to compute the weighted sum at the first node in the first hidden layer.\n"
   ]
  },
  {
   "cell_type": "code",
   "id": "30e734e1-a555-4d89-840d-9bfdb68e7d62",
   "metadata": {
    "ExecuteTime": {
     "end_time": "2023-12-13T16:02:59.625132700Z",
     "start_time": "2023-12-13T16:02:59.562484500Z"
    }
   },
   "outputs": [
    {
     "name": "stdout",
     "output_type": "stream",
     "text": [
      "The weighted sum at the first node in the hidden layer is 1.0179\n"
     ]
    }
   ],
   "source": [
    "node_weights = small_network['layer_1']['node_1']['weights']\n",
    "node_bias = small_network['layer_1']['node_1']['bias']\n",
    "\n",
    "weighted_sum = compute_weighted_sum(inputs, node_weights, node_bias)\n",
    "print('The weighted sum at the first node in the hidden layer is {}'.format(np.around(weighted_sum[0], decimals=4)))"
   ],
   "execution_count": 23
  },
  {
   "cell_type": "markdown",
   "id": "be4804c5-f57d-4ed4-a8ba-6d3efd1e92a0",
   "metadata": {},
   "outputs": [],
   "source": [
    "## Compute Node Activation\n"
   ]
  },
  {
   "cell_type": "markdown",
   "id": "c7e015d7-adb9-47c0-a15b-9d4d6bd7ce4f",
   "metadata": {},
   "outputs": [],
   "source": [
    "Recall that the output of each node is simply a non-linear tranformation of the weighted sum. We use activation functions for this mapping. Let's use the sigmoid function as the activation function here. So let's define a function that takes a weighted sum as input and returns the non-linear transformation of the input using the sigmoid function.\n"
   ]
  },
  {
   "cell_type": "code",
   "id": "c6670009-63f3-40d3-8bc4-37a63d88d2c7",
   "metadata": {
    "ExecuteTime": {
     "end_time": "2023-12-13T16:03:15.446280900Z",
     "start_time": "2023-12-13T16:03:15.430779700Z"
    }
   },
   "outputs": [],
   "source": [
    "def node_activation(weighted_sum):\n",
    "    return 1.0 / (1.0 + np.exp(-1 * weighted_sum))"
   ],
   "execution_count": 24
  },
  {
   "cell_type": "markdown",
   "id": "1476446f-04b6-4d83-a326-33d42b13a850",
   "metadata": {},
   "outputs": [],
   "source": [
    "#### Use the *node_activation* function to compute the output of the first node in the first hidden layer.\n"
   ]
  },
  {
   "cell_type": "code",
   "id": "d0b7b2b2-6562-497c-8da0-3fc5438ed21b",
   "metadata": {
    "ExecuteTime": {
     "end_time": "2023-12-13T16:03:30.482947200Z",
     "start_time": "2023-12-13T16:03:30.451539500Z"
    }
   },
   "outputs": [
    {
     "name": "stdout",
     "output_type": "stream",
     "text": [
      "The output of the first node in the hidden layer is 0.7346\n"
     ]
    }
   ],
   "source": [
    "node_output  = node_activation(compute_weighted_sum(inputs, node_weights, node_bias))\n",
    "print('The output of the first node in the hidden layer is {}'.format(np.around(node_output[0], decimals=4)))"
   ],
   "execution_count": 25
  },
  {
   "cell_type": "markdown",
   "id": "2ea32d9b-7af9-41dd-8a60-d9d4d8cef4df",
   "metadata": {},
   "outputs": [],
   "source": [
    "## Forward Propagation\n"
   ]
  },
  {
   "cell_type": "markdown",
   "id": "f7b423a5-ab31-451a-ba81-2b061ba85bc2",
   "metadata": {},
   "outputs": [],
   "source": [
    "The final piece of building a neural network that can perform predictions is to put everything together. So let's create a function that applies the *compute_weighted_sum* and *node_activation* functions to each node in the network and propagates the data all the way to the output layer and outputs a prediction for each node in the output layer.\n"
   ]
  },
  {
   "cell_type": "markdown",
   "id": "71fcdf1a-c2dd-4cc9-808f-614c1d1d873e",
   "metadata": {},
   "outputs": [],
   "source": [
    "The way we are going to accomplish this is through the following procedure:\n",
    "\n",
    "1. Start with the input layer as the input to the first hidden layer.\n",
    "2. Compute the weighted sum at the nodes of the current layer.\n",
    "3. Compute the output of the nodes of the current layer.\n",
    "4. Set the output of the current layer to be the input to the next layer.\n",
    "5. Move to the next layer in the network.\n",
    "5. Repeat steps 2 - 4 until we compute the output of the output layer.\n"
   ]
  },
  {
   "cell_type": "code",
   "id": "188d6a40-bc9a-498e-8c78-fd4746b7e6f3",
   "metadata": {
    "ExecuteTime": {
     "end_time": "2023-12-13T16:03:47.665744800Z",
     "start_time": "2023-12-13T16:03:47.650283500Z"
    }
   },
   "outputs": [],
   "source": [
    "def forward_propagate(network, inputs):\n",
    "    \n",
    "    layer_inputs = list(inputs) # start with the input layer as the input to the first hidden layer\n",
    "    \n",
    "    for layer in network:\n",
    "        \n",
    "        layer_data = network[layer]\n",
    "        \n",
    "        layer_outputs = [] \n",
    "        for layer_node in layer_data:\n",
    "        \n",
    "            node_data = layer_data[layer_node]\n",
    "        \n",
    "            # compute the weighted sum and the output of each node at the same time \n",
    "            node_output = node_activation(compute_weighted_sum(layer_inputs, node_data['weights'], node_data['bias']))\n",
    "            layer_outputs.append(np.around(node_output[0], decimals=4))\n",
    "            \n",
    "        if layer != 'output':\n",
    "            print('The outputs of the nodes in hidden layer number {} is {}'.format(layer.split('_')[1], layer_outputs))\n",
    "    \n",
    "        layer_inputs = layer_outputs # set the output of this layer to be the input to next layer\n",
    "\n",
    "    network_predictions = layer_outputs\n",
    "    return network_predictions"
   ],
   "execution_count": 26
  },
  {
   "cell_type": "markdown",
   "id": "a7b48ae7-383e-44fd-b0b9-48ada3f0a667",
   "metadata": {},
   "outputs": [],
   "source": [
    "#### Use the *forward_propagate* function to compute the prediction of our small network\n"
   ]
  },
  {
   "cell_type": "code",
   "id": "8849cfab-90b9-42d6-8eeb-f4885913a347",
   "metadata": {
    "ExecuteTime": {
     "end_time": "2023-12-13T16:04:30.854513Z",
     "start_time": "2023-12-13T16:04:30.823126700Z"
    }
   },
   "outputs": [
    {
     "name": "stdout",
     "output_type": "stream",
     "text": [
      "The outputs of the nodes in hidden layer number 1 is [0.7346, 0.6492, 0.8755]\n",
      "The outputs of the nodes in hidden layer number 2 is [0.8173, 0.7236]\n",
      "The outputs of the nodes in hidden layer number 3 is [0.6308, 0.8033, 0.5759]\n",
      "The predicted value by the network for the given input is 0.8088\n"
     ]
    }
   ],
   "source": [
    "predictions = forward_propagate(small_network, inputs)\n",
    "print('The predicted value by the network for the given input is {}'.format(np.around(predictions[0], decimals=4)))"
   ],
   "execution_count": 27
  },
  {
   "cell_type": "markdown",
   "id": "86b57ec6-6c11-4827-8a04-6b39c29489dd",
   "metadata": {},
   "outputs": [],
   "source": [
    "So we built the code to define a neural network. We can specify the number of inputs that a neural network can take, the number of hidden layers as well as the number of nodes in each hidden layer, and the number of nodes in the output layer.\n"
   ]
  },
  {
   "cell_type": "markdown",
   "id": "5a5ff2a0-6bb1-4996-98ab-f839e3097868",
   "metadata": {},
   "outputs": [],
   "source": [
    "We first use the *initialize_network* to create our neural network and define its weights and biases.\n"
   ]
  },
  {
   "cell_type": "code",
   "id": "1d6e6fa2-b8fa-4da8-878c-18a937f2a72d",
   "metadata": {
    "ExecuteTime": {
     "end_time": "2023-12-13T16:04:46.009545600Z",
     "start_time": "2023-12-13T16:04:45.994064600Z"
    }
   },
   "outputs": [],
   "source": [
    "my_network = initialize_network(5, 3, [2, 3, 2], 3)"
   ],
   "execution_count": 28
  },
  {
   "cell_type": "markdown",
   "id": "6f211316-d1a9-4143-b9e5-524924fcae55",
   "metadata": {},
   "outputs": [],
   "source": [
    "Then, for a given input,\n"
   ]
  },
  {
   "cell_type": "code",
   "id": "d97a42a7-c3f2-42e0-aafd-866a32efa0a4",
   "metadata": {
    "ExecuteTime": {
     "end_time": "2023-12-13T16:04:49.337017100Z",
     "start_time": "2023-12-13T16:04:49.321398800Z"
    }
   },
   "outputs": [],
   "source": [
    "inputs = np.around(np.random.uniform(size=5), decimals=2)"
   ],
   "execution_count": 29
  },
  {
   "cell_type": "markdown",
   "id": "796c4c0a-421b-429c-b7d1-95a89acb8951",
   "metadata": {},
   "outputs": [],
   "source": [
    "we compute the network predictions.\n"
   ]
  },
  {
   "cell_type": "code",
   "id": "62ab9d47-4256-42b3-a2d3-9abeb0fb7cfc",
   "metadata": {
    "ExecuteTime": {
     "end_time": "2023-12-13T16:04:52.955396700Z",
     "start_time": "2023-12-13T16:04:52.924130400Z"
    }
   },
   "outputs": [
    {
     "name": "stdout",
     "output_type": "stream",
     "text": [
      "The outputs of the nodes in hidden layer number 1 is [0.8857, 0.8889]\n",
      "The outputs of the nodes in hidden layer number 2 is [0.7822, 0.6965, 0.7411]\n",
      "The outputs of the nodes in hidden layer number 3 is [0.868, 0.881]\n",
      "The predicted values by the network for the given input are [0.8952, 0.8222, 0.8035]\n"
     ]
    }
   ],
   "source": [
    "predictions = forward_propagate(my_network, inputs)\n",
    "print('The predicted values by the network for the given input are {}'.format(predictions))"
   ],
   "execution_count": 30
  },
  {
   "cell_type": "markdown",
   "id": "9b1751fd-870a-4d69-8a91-9693cd29094b",
   "metadata": {},
   "outputs": [],
   "source": [
    "Feel free to play around with the code by creating different networks of different structures and enjoy making predictions using the *forward_propagate* function.\n"
   ]
  },
  {
   "cell_type": "code",
   "id": "29c01403-c676-4274-9ecb-cad0dedea7cb",
   "metadata": {},
   "outputs": [],
   "source": [
    "### create a network\n",
    "\n",
    "\n",
    "\n"
   ]
  },
  {
   "cell_type": "code",
   "id": "c1b9a289-5870-4e1f-9810-356d3fa960b0",
   "metadata": {},
   "outputs": [],
   "source": [
    "### create another network\n",
    "\n",
    "\n",
    "\n"
   ]
  }
 ],
 "metadata": {
  "kernelspec": {
   "name": "python3",
   "language": "python",
   "display_name": "Python 3 (ipykernel)"
  },
  "language_info": {
   "name": ""
  }
 },
 "nbformat": 4,
 "nbformat_minor": 4
}
